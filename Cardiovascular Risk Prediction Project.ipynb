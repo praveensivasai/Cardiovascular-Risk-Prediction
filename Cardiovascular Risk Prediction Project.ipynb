{
 "cells": [
  {
   "cell_type": "markdown",
   "id": "e9f145f8",
   "metadata": {},
   "source": [
    "# Project Description : \n",
    "\n",
    "Cardiovascular Disease - 10 Year Risk of Coronary Heart Disease Prediction."
   ]
  },
  {
   "cell_type": "markdown",
   "id": "005389ce",
   "metadata": {},
   "source": [
    "# Problem statement : \n",
    "\n",
    "The dataset is from a cardiovascular study on residents of the town of Framingham, Massachusetts. The classification goal is to predict whether the patient has a 10-year risk of future coronary heart disease (CHD). The dataset provides the patients information. It includes over 3,400 records and 17 attributes.The main objective is to build a predictive model, which could help us in predicting the 10-year risk of future coronary heart disease (CHD) in a person.\n"
   ]
  },
  {
   "cell_type": "markdown",
   "id": "b307c60f",
   "metadata": {},
   "source": [
    "# Data Description \n",
    "\n",
    "# Demographic:\n",
    "\n",
    "•\tSex: male or female (\"M\" or \"F\") \n",
    "\n",
    "•\tAge: Age of the patient;(Continuous - Although the recorded ages have been truncated to whole numbers, the concept of age is continuous) \n",
    "\n",
    "# Behavioural \n",
    "\n",
    "•\tis_smoking: whether or not the patient is a current smoker (\"YES\" or \"NO\") \n",
    "\n",
    "•\tCigs Per Day: the number of cigarettes that the person smoked on average in one day. (Can be considered continuous as one can have any number of cigarettes, even half a cigarette.) \n",
    "\n",
    "# Medical(history):\n",
    "\n",
    "•\tBP Meds: whether or not the patient was on blood pressure medication (Nominal) \n",
    "\n",
    "•\tPrevalent Stroke: whether or not the patient had previously had a stroke (Nominal) \n",
    "\n",
    "•\tPrevalent Hyp: whether or not the patient was hypertensive (Nominal)\n",
    "\n",
    "•\tDiabetes: whether or not the patient had diabetes (Nominal) \n",
    "\n",
    "# Medical(current):\n",
    "\n",
    "•\tTot Chol: total cholesterol level (Continuous) \n",
    "\n",
    "•\tSys BP: systolic blood pressure (Continuous) \n",
    "\n",
    "•\tDia BP: diastolic blood pressure (Continuous) \n",
    "\n",
    "•\tBMI: Body Mass Index (Continuous) \n",
    "\n",
    "•\tHeart Rate: heart rate (Continuous - In medical research, variables such as heart rate though in fact discrete, yet are considered continuous because of large number of possible values.) \n",
    "\n",
    "•\tGlucose: glucose level (Continuous)\n",
    "\n",
    "# Predict variable (desired target) \n",
    "\n",
    "•\t10-year risk of coronary heart disease CHD (binary: “1”, means “Yes”, “0” means “No”).                \n",
    "\n"
   ]
  },
  {
   "cell_type": "markdown",
   "id": "81a73e17",
   "metadata": {},
   "source": [
    "# 1. Importing the following Libraries"
   ]
  },
  {
   "cell_type": "code",
   "execution_count": 1,
   "id": "b9314a83",
   "metadata": {},
   "outputs": [],
   "source": [
    "import numpy as np\n",
    "import pandas as pd\n",
    "import seaborn as sns\n",
    "import matplotlib.pyplot as plt\n",
    "%matplotlib inline\n",
    "import warnings\n",
    "warnings.filterwarnings(\"ignore\")"
   ]
  },
  {
   "cell_type": "markdown",
   "id": "f0f60963",
   "metadata": {},
   "source": [
    "loading the data"
   ]
  },
  {
   "cell_type": "code",
   "execution_count": 2,
   "id": "5d6e9acc",
   "metadata": {},
   "outputs": [],
   "source": [
    "heart_data = pd.read_csv(\"D:\\\\Projects\\\\cardiovascular diseases\\\\data_cardiovascular_risk.csv\")"
   ]
  },
  {
   "cell_type": "markdown",
   "id": "db4fd587",
   "metadata": {},
   "source": [
    "Preview the data"
   ]
  },
  {
   "cell_type": "code",
   "execution_count": 3,
   "id": "4574bdbc",
   "metadata": {},
   "outputs": [
    {
     "data": {
      "text/html": [
       "<div>\n",
       "<style scoped>\n",
       "    .dataframe tbody tr th:only-of-type {\n",
       "        vertical-align: middle;\n",
       "    }\n",
       "\n",
       "    .dataframe tbody tr th {\n",
       "        vertical-align: top;\n",
       "    }\n",
       "\n",
       "    .dataframe thead th {\n",
       "        text-align: right;\n",
       "    }\n",
       "</style>\n",
       "<table border=\"1\" class=\"dataframe\">\n",
       "  <thead>\n",
       "    <tr style=\"text-align: right;\">\n",
       "      <th></th>\n",
       "      <th>id</th>\n",
       "      <th>age</th>\n",
       "      <th>education</th>\n",
       "      <th>sex</th>\n",
       "      <th>is_smoking</th>\n",
       "      <th>cigsPerDay</th>\n",
       "      <th>BPMeds</th>\n",
       "      <th>prevalentStroke</th>\n",
       "      <th>prevalentHyp</th>\n",
       "      <th>diabetes</th>\n",
       "      <th>totChol</th>\n",
       "      <th>sysBP</th>\n",
       "      <th>diaBP</th>\n",
       "      <th>BMI</th>\n",
       "      <th>heartRate</th>\n",
       "      <th>glucose</th>\n",
       "      <th>TenYearCHD</th>\n",
       "    </tr>\n",
       "  </thead>\n",
       "  <tbody>\n",
       "    <tr>\n",
       "      <th>0</th>\n",
       "      <td>0</td>\n",
       "      <td>64</td>\n",
       "      <td>2.0</td>\n",
       "      <td>F</td>\n",
       "      <td>YES</td>\n",
       "      <td>3.0</td>\n",
       "      <td>0.0</td>\n",
       "      <td>0</td>\n",
       "      <td>0</td>\n",
       "      <td>0</td>\n",
       "      <td>221.0</td>\n",
       "      <td>148.0</td>\n",
       "      <td>85.0</td>\n",
       "      <td>NaN</td>\n",
       "      <td>90.0</td>\n",
       "      <td>80.0</td>\n",
       "      <td>1</td>\n",
       "    </tr>\n",
       "    <tr>\n",
       "      <th>1</th>\n",
       "      <td>1</td>\n",
       "      <td>36</td>\n",
       "      <td>4.0</td>\n",
       "      <td>M</td>\n",
       "      <td>NO</td>\n",
       "      <td>0.0</td>\n",
       "      <td>0.0</td>\n",
       "      <td>0</td>\n",
       "      <td>1</td>\n",
       "      <td>0</td>\n",
       "      <td>212.0</td>\n",
       "      <td>168.0</td>\n",
       "      <td>98.0</td>\n",
       "      <td>29.77</td>\n",
       "      <td>72.0</td>\n",
       "      <td>75.0</td>\n",
       "      <td>0</td>\n",
       "    </tr>\n",
       "    <tr>\n",
       "      <th>2</th>\n",
       "      <td>2</td>\n",
       "      <td>46</td>\n",
       "      <td>1.0</td>\n",
       "      <td>F</td>\n",
       "      <td>YES</td>\n",
       "      <td>10.0</td>\n",
       "      <td>0.0</td>\n",
       "      <td>0</td>\n",
       "      <td>0</td>\n",
       "      <td>0</td>\n",
       "      <td>250.0</td>\n",
       "      <td>116.0</td>\n",
       "      <td>71.0</td>\n",
       "      <td>20.35</td>\n",
       "      <td>88.0</td>\n",
       "      <td>94.0</td>\n",
       "      <td>0</td>\n",
       "    </tr>\n",
       "    <tr>\n",
       "      <th>3</th>\n",
       "      <td>3</td>\n",
       "      <td>50</td>\n",
       "      <td>1.0</td>\n",
       "      <td>M</td>\n",
       "      <td>YES</td>\n",
       "      <td>20.0</td>\n",
       "      <td>0.0</td>\n",
       "      <td>0</td>\n",
       "      <td>1</td>\n",
       "      <td>0</td>\n",
       "      <td>233.0</td>\n",
       "      <td>158.0</td>\n",
       "      <td>88.0</td>\n",
       "      <td>28.26</td>\n",
       "      <td>68.0</td>\n",
       "      <td>94.0</td>\n",
       "      <td>1</td>\n",
       "    </tr>\n",
       "    <tr>\n",
       "      <th>4</th>\n",
       "      <td>4</td>\n",
       "      <td>64</td>\n",
       "      <td>1.0</td>\n",
       "      <td>F</td>\n",
       "      <td>YES</td>\n",
       "      <td>30.0</td>\n",
       "      <td>0.0</td>\n",
       "      <td>0</td>\n",
       "      <td>0</td>\n",
       "      <td>0</td>\n",
       "      <td>241.0</td>\n",
       "      <td>136.5</td>\n",
       "      <td>85.0</td>\n",
       "      <td>26.42</td>\n",
       "      <td>70.0</td>\n",
       "      <td>77.0</td>\n",
       "      <td>0</td>\n",
       "    </tr>\n",
       "    <tr>\n",
       "      <th>5</th>\n",
       "      <td>5</td>\n",
       "      <td>61</td>\n",
       "      <td>3.0</td>\n",
       "      <td>F</td>\n",
       "      <td>NO</td>\n",
       "      <td>0.0</td>\n",
       "      <td>0.0</td>\n",
       "      <td>0</td>\n",
       "      <td>1</td>\n",
       "      <td>0</td>\n",
       "      <td>272.0</td>\n",
       "      <td>182.0</td>\n",
       "      <td>121.0</td>\n",
       "      <td>32.80</td>\n",
       "      <td>85.0</td>\n",
       "      <td>65.0</td>\n",
       "      <td>1</td>\n",
       "    </tr>\n",
       "    <tr>\n",
       "      <th>6</th>\n",
       "      <td>6</td>\n",
       "      <td>61</td>\n",
       "      <td>1.0</td>\n",
       "      <td>M</td>\n",
       "      <td>NO</td>\n",
       "      <td>0.0</td>\n",
       "      <td>0.0</td>\n",
       "      <td>0</td>\n",
       "      <td>1</td>\n",
       "      <td>0</td>\n",
       "      <td>238.0</td>\n",
       "      <td>232.0</td>\n",
       "      <td>136.0</td>\n",
       "      <td>24.83</td>\n",
       "      <td>75.0</td>\n",
       "      <td>79.0</td>\n",
       "      <td>0</td>\n",
       "    </tr>\n",
       "    <tr>\n",
       "      <th>7</th>\n",
       "      <td>7</td>\n",
       "      <td>36</td>\n",
       "      <td>4.0</td>\n",
       "      <td>M</td>\n",
       "      <td>YES</td>\n",
       "      <td>35.0</td>\n",
       "      <td>0.0</td>\n",
       "      <td>0</td>\n",
       "      <td>0</td>\n",
       "      <td>0</td>\n",
       "      <td>295.0</td>\n",
       "      <td>102.0</td>\n",
       "      <td>68.0</td>\n",
       "      <td>28.15</td>\n",
       "      <td>60.0</td>\n",
       "      <td>63.0</td>\n",
       "      <td>0</td>\n",
       "    </tr>\n",
       "    <tr>\n",
       "      <th>8</th>\n",
       "      <td>8</td>\n",
       "      <td>41</td>\n",
       "      <td>2.0</td>\n",
       "      <td>F</td>\n",
       "      <td>YES</td>\n",
       "      <td>20.0</td>\n",
       "      <td>NaN</td>\n",
       "      <td>0</td>\n",
       "      <td>0</td>\n",
       "      <td>0</td>\n",
       "      <td>220.0</td>\n",
       "      <td>126.0</td>\n",
       "      <td>78.0</td>\n",
       "      <td>20.70</td>\n",
       "      <td>86.0</td>\n",
       "      <td>79.0</td>\n",
       "      <td>0</td>\n",
       "    </tr>\n",
       "    <tr>\n",
       "      <th>9</th>\n",
       "      <td>9</td>\n",
       "      <td>55</td>\n",
       "      <td>2.0</td>\n",
       "      <td>F</td>\n",
       "      <td>NO</td>\n",
       "      <td>0.0</td>\n",
       "      <td>0.0</td>\n",
       "      <td>0</td>\n",
       "      <td>1</td>\n",
       "      <td>0</td>\n",
       "      <td>326.0</td>\n",
       "      <td>144.0</td>\n",
       "      <td>81.0</td>\n",
       "      <td>25.71</td>\n",
       "      <td>85.0</td>\n",
       "      <td>NaN</td>\n",
       "      <td>0</td>\n",
       "    </tr>\n",
       "  </tbody>\n",
       "</table>\n",
       "</div>"
      ],
      "text/plain": [
       "   id  age  education sex is_smoking  cigsPerDay  BPMeds  prevalentStroke  \\\n",
       "0   0   64        2.0   F        YES         3.0     0.0                0   \n",
       "1   1   36        4.0   M         NO         0.0     0.0                0   \n",
       "2   2   46        1.0   F        YES        10.0     0.0                0   \n",
       "3   3   50        1.0   M        YES        20.0     0.0                0   \n",
       "4   4   64        1.0   F        YES        30.0     0.0                0   \n",
       "5   5   61        3.0   F         NO         0.0     0.0                0   \n",
       "6   6   61        1.0   M         NO         0.0     0.0                0   \n",
       "7   7   36        4.0   M        YES        35.0     0.0                0   \n",
       "8   8   41        2.0   F        YES        20.0     NaN                0   \n",
       "9   9   55        2.0   F         NO         0.0     0.0                0   \n",
       "\n",
       "   prevalentHyp  diabetes  totChol  sysBP  diaBP    BMI  heartRate  glucose  \\\n",
       "0             0         0    221.0  148.0   85.0    NaN       90.0     80.0   \n",
       "1             1         0    212.0  168.0   98.0  29.77       72.0     75.0   \n",
       "2             0         0    250.0  116.0   71.0  20.35       88.0     94.0   \n",
       "3             1         0    233.0  158.0   88.0  28.26       68.0     94.0   \n",
       "4             0         0    241.0  136.5   85.0  26.42       70.0     77.0   \n",
       "5             1         0    272.0  182.0  121.0  32.80       85.0     65.0   \n",
       "6             1         0    238.0  232.0  136.0  24.83       75.0     79.0   \n",
       "7             0         0    295.0  102.0   68.0  28.15       60.0     63.0   \n",
       "8             0         0    220.0  126.0   78.0  20.70       86.0     79.0   \n",
       "9             1         0    326.0  144.0   81.0  25.71       85.0      NaN   \n",
       "\n",
       "   TenYearCHD  \n",
       "0           1  \n",
       "1           0  \n",
       "2           0  \n",
       "3           1  \n",
       "4           0  \n",
       "5           1  \n",
       "6           0  \n",
       "7           0  \n",
       "8           0  \n",
       "9           0  "
      ]
     },
     "execution_count": 3,
     "metadata": {},
     "output_type": "execute_result"
    }
   ],
   "source": [
    "heart_data.head(10)"
   ]
  },
  {
   "cell_type": "code",
   "execution_count": 4,
   "id": "64c8cda2",
   "metadata": {},
   "outputs": [
    {
     "data": {
      "text/plain": [
       "(3390, 17)"
      ]
     },
     "execution_count": 4,
     "metadata": {},
     "output_type": "execute_result"
    }
   ],
   "source": [
    "heart_data.shape"
   ]
  },
  {
   "cell_type": "markdown",
   "id": "b6f9ad86",
   "metadata": {},
   "source": [
    "The dataset has 3390 observations and 17 features."
   ]
  },
  {
   "cell_type": "code",
   "execution_count": 5,
   "id": "8a6c59b8",
   "metadata": {},
   "outputs": [
    {
     "name": "stdout",
     "output_type": "stream",
     "text": [
      "<class 'pandas.core.frame.DataFrame'>\n",
      "RangeIndex: 3390 entries, 0 to 3389\n",
      "Data columns (total 17 columns):\n",
      " #   Column           Non-Null Count  Dtype  \n",
      "---  ------           --------------  -----  \n",
      " 0   id               3390 non-null   int64  \n",
      " 1   age              3390 non-null   int64  \n",
      " 2   education        3303 non-null   float64\n",
      " 3   sex              3390 non-null   object \n",
      " 4   is_smoking       3390 non-null   object \n",
      " 5   cigsPerDay       3368 non-null   float64\n",
      " 6   BPMeds           3346 non-null   float64\n",
      " 7   prevalentStroke  3390 non-null   int64  \n",
      " 8   prevalentHyp     3390 non-null   int64  \n",
      " 9   diabetes         3390 non-null   int64  \n",
      " 10  totChol          3352 non-null   float64\n",
      " 11  sysBP            3390 non-null   float64\n",
      " 12  diaBP            3390 non-null   float64\n",
      " 13  BMI              3376 non-null   float64\n",
      " 14  heartRate        3389 non-null   float64\n",
      " 15  glucose          3086 non-null   float64\n",
      " 16  TenYearCHD       3390 non-null   int64  \n",
      "dtypes: float64(9), int64(6), object(2)\n",
      "memory usage: 450.4+ KB\n"
     ]
    }
   ],
   "source": [
    "heart_data.info()"
   ]
  },
  {
   "cell_type": "markdown",
   "id": "dcb5fdf0",
   "metadata": {},
   "source": [
    "# 2. Analyzing Data"
   ]
  },
  {
   "cell_type": "markdown",
   "id": "8e4ba003",
   "metadata": {},
   "source": [
    "visualizing the distribution of all the features."
   ]
  },
  {
   "cell_type": "code",
   "execution_count": 6,
   "id": "c89ca3f3",
   "metadata": {},
   "outputs": [
    {
     "data": {
      "image/png": "[encoded data removed]",
      "text/plain": [
       "<Figure size 1440x1440 with 17 Axes>"
      ]
     },
     "metadata": {
      "needs_background": "light"
     },
     "output_type": "display_data"
    }
   ],
   "source": [
    "def draw_histograms(dataframe, features, rows, cols):\n",
    "    fig=plt.figure(figsize=(20,20))\n",
    "    for i, feature in enumerate(features):\n",
    "        ax=fig.add_subplot(rows,cols,i+1)\n",
    "        dataframe[feature].hist(bins=20,ax=ax,facecolor='green')\n",
    "        ax.set_title(feature+\" Distribution\",color='DarkRed')\n",
    "        \n",
    "    fig.tight_layout()  \n",
    "    plt.show()\n",
    "draw_histograms(heart_data,heart_data.columns,6,3)"
   ]
  },
  {
   "cell_type": "markdown",
   "id": "f4eb6d75",
   "metadata": {},
   "source": [
    "visualizing the distribution of predictor variable"
   ]
  },
  {
   "cell_type": "code",
   "execution_count": 7,
   "id": "a994b698",
   "metadata": {},
   "outputs": [
    {
     "data": {
      "text/plain": [
       "<AxesSubplot:xlabel='TenYearCHD', ylabel='count'>"
      ]
     },
     "execution_count": 7,
     "metadata": {},
     "output_type": "execute_result"
    },
    {
     "data": {
      "image/png": "[encoded data removed]",
      "text/plain": [
       "<Figure size 360x288 with 1 Axes>"
      ]
     },
     "metadata": {
      "needs_background": "light"
     },
     "output_type": "display_data"
    }
   ],
   "source": [
    "plt.figure(figsize=(5,4))\n",
    "sns.countplot(x=\"TenYearCHD\", data=heart_data)"
   ]
  },
  {
   "cell_type": "code",
   "execution_count": 8,
   "id": "69843166",
   "metadata": {},
   "outputs": [
    {
     "data": {
      "text/plain": [
       "<AxesSubplot:xlabel='TenYearCHD', ylabel='count'>"
      ]
     },
     "execution_count": 8,
     "metadata": {},
     "output_type": "execute_result"
    },
    {
     "data": {
      "image/png": "[encoded data removed]",
      "text/plain": [
       "<Figure size 432x288 with 1 Axes>"
      ]
     },
     "metadata": {
      "needs_background": "light"
     },
     "output_type": "display_data"
    }
   ],
   "source": [
    "# checking which sex among male and female is more prone to coronary heart disease?\n",
    "sns.countplot(x=\"TenYearCHD\", hue=\"sex\", data=heart_data)"
   ]
  },
  {
   "cell_type": "code",
   "execution_count": 9,
   "id": "39dcb486",
   "metadata": {},
   "outputs": [
    {
     "data": {
      "text/plain": [
       "<AxesSubplot:xlabel='TenYearCHD', ylabel='count'>"
      ]
     },
     "execution_count": 9,
     "metadata": {},
     "output_type": "execute_result"
    },
    {
     "data": {
      "image/png": "[encoded data removed]",
      "text/plain": [
       "<Figure size 432x288 with 1 Axes>"
      ]
     },
     "metadata": {
      "needs_background": "light"
     },
     "output_type": "display_data"
    }
   ],
   "source": [
    "# checking whether smoking has any impact on the Tenyear CHD ?\n",
    "sns.countplot(x=\"TenYearCHD\", hue=\"is_smoking\", data=heart_data)"
   ]
  },
  {
   "cell_type": "code",
   "execution_count": 10,
   "id": "7d91f155",
   "metadata": {},
   "outputs": [
    {
     "data": {
      "text/plain": [
       "<AxesSubplot:xlabel='TenYearCHD', ylabel='count'>"
      ]
     },
     "execution_count": 10,
     "metadata": {},
     "output_type": "execute_result"
    },
    {
     "data": {
      "image/png": "[encoded data removed]",
      "text/plain": [
       "<Figure size 432x288 with 1 Axes>"
      ]
     },
     "metadata": {
      "needs_background": "light"
     },
     "output_type": "display_data"
    }
   ],
   "source": [
    "# checking if diabetes has any impact on CHD?\n",
    "sns.countplot(x=\"TenYearCHD\", hue=\"diabetes\", data=heart_data)"
   ]
  },
  {
   "cell_type": "code",
   "execution_count": 11,
   "id": "177726e2",
   "metadata": {},
   "outputs": [
    {
     "data": {
      "text/plain": [
       "<AxesSubplot:xlabel='TenYearCHD', ylabel='count'>"
      ]
     },
     "execution_count": 11,
     "metadata": {},
     "output_type": "execute_result"
    },
    {
     "data": {
      "image/png": "[encoded data removed]",
      "text/plain": [
       "<Figure size 432x288 with 1 Axes>"
      ]
     },
     "metadata": {
      "needs_background": "light"
     },
     "output_type": "display_data"
    }
   ],
   "source": [
    "# checking if prevalentStroke has any impact on CHD?\n",
    "sns.countplot(x=\"TenYearCHD\", hue=\"prevalentStroke\", data=heart_data)"
   ]
  },
  {
   "cell_type": "code",
   "execution_count": 12,
   "id": "110802e7",
   "metadata": {},
   "outputs": [
    {
     "data": {
      "text/plain": [
       "<AxesSubplot:xlabel='TenYearCHD', ylabel='count'>"
      ]
     },
     "execution_count": 12,
     "metadata": {},
     "output_type": "execute_result"
    },
    {
     "data": {
      "image/png": "[encoded data removed]",
      "text/plain": [
       "<Figure size 432x288 with 1 Axes>"
      ]
     },
     "metadata": {
      "needs_background": "light"
     },
     "output_type": "display_data"
    }
   ],
   "source": [
    "# checking if prevalentHyp has any impact on CHD?\n",
    "sns.countplot(x=\"TenYearCHD\", hue=\"prevalentHyp\", data=heart_data)"
   ]
  },
  {
   "cell_type": "markdown",
   "id": "5dd25e0a",
   "metadata": {},
   "source": [
    "From the above analysis, we came to know that features like sex, is_smoking, diabetes, prevalent stroke, prevalent hyp has some significance or some kind of effect with predictor variable."
   ]
  },
  {
   "cell_type": "code",
   "execution_count": 13,
   "id": "817616e1",
   "metadata": {},
   "outputs": [
    {
     "data": {
      "text/html": [
       "<div>\n",
       "<style scoped>\n",
       "    .dataframe tbody tr th:only-of-type {\n",
       "        vertical-align: middle;\n",
       "    }\n",
       "\n",
       "    .dataframe tbody tr th {\n",
       "        vertical-align: top;\n",
       "    }\n",
       "\n",
       "    .dataframe thead th {\n",
       "        text-align: right;\n",
       "    }\n",
       "</style>\n",
       "<table border=\"1\" class=\"dataframe\">\n",
       "  <thead>\n",
       "    <tr style=\"text-align: right;\">\n",
       "      <th></th>\n",
       "      <th>count</th>\n",
       "      <th>mean</th>\n",
       "      <th>std</th>\n",
       "      <th>min</th>\n",
       "      <th>25%</th>\n",
       "      <th>50%</th>\n",
       "      <th>75%</th>\n",
       "      <th>max</th>\n",
       "    </tr>\n",
       "  </thead>\n",
       "  <tbody>\n",
       "    <tr>\n",
       "      <th>id</th>\n",
       "      <td>3390.0</td>\n",
       "      <td>1694.500000</td>\n",
       "      <td>978.753033</td>\n",
       "      <td>0.00</td>\n",
       "      <td>847.25</td>\n",
       "      <td>1694.50</td>\n",
       "      <td>2541.75</td>\n",
       "      <td>3389.0</td>\n",
       "    </tr>\n",
       "    <tr>\n",
       "      <th>age</th>\n",
       "      <td>3390.0</td>\n",
       "      <td>49.542183</td>\n",
       "      <td>8.592878</td>\n",
       "      <td>32.00</td>\n",
       "      <td>42.00</td>\n",
       "      <td>49.00</td>\n",
       "      <td>56.00</td>\n",
       "      <td>70.0</td>\n",
       "    </tr>\n",
       "    <tr>\n",
       "      <th>education</th>\n",
       "      <td>3303.0</td>\n",
       "      <td>1.970936</td>\n",
       "      <td>1.019081</td>\n",
       "      <td>1.00</td>\n",
       "      <td>1.00</td>\n",
       "      <td>2.00</td>\n",
       "      <td>3.00</td>\n",
       "      <td>4.0</td>\n",
       "    </tr>\n",
       "    <tr>\n",
       "      <th>cigsPerDay</th>\n",
       "      <td>3368.0</td>\n",
       "      <td>9.069477</td>\n",
       "      <td>11.879078</td>\n",
       "      <td>0.00</td>\n",
       "      <td>0.00</td>\n",
       "      <td>0.00</td>\n",
       "      <td>20.00</td>\n",
       "      <td>70.0</td>\n",
       "    </tr>\n",
       "    <tr>\n",
       "      <th>BPMeds</th>\n",
       "      <td>3346.0</td>\n",
       "      <td>0.029886</td>\n",
       "      <td>0.170299</td>\n",
       "      <td>0.00</td>\n",
       "      <td>0.00</td>\n",
       "      <td>0.00</td>\n",
       "      <td>0.00</td>\n",
       "      <td>1.0</td>\n",
       "    </tr>\n",
       "    <tr>\n",
       "      <th>prevalentStroke</th>\n",
       "      <td>3390.0</td>\n",
       "      <td>0.006490</td>\n",
       "      <td>0.080309</td>\n",
       "      <td>0.00</td>\n",
       "      <td>0.00</td>\n",
       "      <td>0.00</td>\n",
       "      <td>0.00</td>\n",
       "      <td>1.0</td>\n",
       "    </tr>\n",
       "    <tr>\n",
       "      <th>prevalentHyp</th>\n",
       "      <td>3390.0</td>\n",
       "      <td>0.315339</td>\n",
       "      <td>0.464719</td>\n",
       "      <td>0.00</td>\n",
       "      <td>0.00</td>\n",
       "      <td>0.00</td>\n",
       "      <td>1.00</td>\n",
       "      <td>1.0</td>\n",
       "    </tr>\n",
       "    <tr>\n",
       "      <th>diabetes</th>\n",
       "      <td>3390.0</td>\n",
       "      <td>0.025664</td>\n",
       "      <td>0.158153</td>\n",
       "      <td>0.00</td>\n",
       "      <td>0.00</td>\n",
       "      <td>0.00</td>\n",
       "      <td>0.00</td>\n",
       "      <td>1.0</td>\n",
       "    </tr>\n",
       "    <tr>\n",
       "      <th>totChol</th>\n",
       "      <td>3352.0</td>\n",
       "      <td>237.074284</td>\n",
       "      <td>45.247430</td>\n",
       "      <td>107.00</td>\n",
       "      <td>206.00</td>\n",
       "      <td>234.00</td>\n",
       "      <td>264.00</td>\n",
       "      <td>696.0</td>\n",
       "    </tr>\n",
       "    <tr>\n",
       "      <th>sysBP</th>\n",
       "      <td>3390.0</td>\n",
       "      <td>132.601180</td>\n",
       "      <td>22.292030</td>\n",
       "      <td>83.50</td>\n",
       "      <td>117.00</td>\n",
       "      <td>128.50</td>\n",
       "      <td>144.00</td>\n",
       "      <td>295.0</td>\n",
       "    </tr>\n",
       "    <tr>\n",
       "      <th>diaBP</th>\n",
       "      <td>3390.0</td>\n",
       "      <td>82.883038</td>\n",
       "      <td>12.023581</td>\n",
       "      <td>48.00</td>\n",
       "      <td>74.50</td>\n",
       "      <td>82.00</td>\n",
       "      <td>90.00</td>\n",
       "      <td>142.5</td>\n",
       "    </tr>\n",
       "    <tr>\n",
       "      <th>BMI</th>\n",
       "      <td>3376.0</td>\n",
       "      <td>25.794964</td>\n",
       "      <td>4.115449</td>\n",
       "      <td>15.96</td>\n",
       "      <td>23.02</td>\n",
       "      <td>25.38</td>\n",
       "      <td>28.04</td>\n",
       "      <td>56.8</td>\n",
       "    </tr>\n",
       "    <tr>\n",
       "      <th>heartRate</th>\n",
       "      <td>3389.0</td>\n",
       "      <td>75.977279</td>\n",
       "      <td>11.971868</td>\n",
       "      <td>45.00</td>\n",
       "      <td>68.00</td>\n",
       "      <td>75.00</td>\n",
       "      <td>83.00</td>\n",
       "      <td>143.0</td>\n",
       "    </tr>\n",
       "    <tr>\n",
       "      <th>glucose</th>\n",
       "      <td>3086.0</td>\n",
       "      <td>82.086520</td>\n",
       "      <td>24.244753</td>\n",
       "      <td>40.00</td>\n",
       "      <td>71.00</td>\n",
       "      <td>78.00</td>\n",
       "      <td>87.00</td>\n",
       "      <td>394.0</td>\n",
       "    </tr>\n",
       "    <tr>\n",
       "      <th>TenYearCHD</th>\n",
       "      <td>3390.0</td>\n",
       "      <td>0.150737</td>\n",
       "      <td>0.357846</td>\n",
       "      <td>0.00</td>\n",
       "      <td>0.00</td>\n",
       "      <td>0.00</td>\n",
       "      <td>0.00</td>\n",
       "      <td>1.0</td>\n",
       "    </tr>\n",
       "  </tbody>\n",
       "</table>\n",
       "</div>"
      ],
      "text/plain": [
       "                  count         mean         std     min     25%      50%  \\\n",
       "id               3390.0  1694.500000  978.753033    0.00  847.25  1694.50   \n",
       "age              3390.0    49.542183    8.592878   32.00   42.00    49.00   \n",
       "education        3303.0     1.970936    1.019081    1.00    1.00     2.00   \n",
       "cigsPerDay       3368.0     9.069477   11.879078    0.00    0.00     0.00   \n",
       "BPMeds           3346.0     0.029886    0.170299    0.00    0.00     0.00   \n",
       "prevalentStroke  3390.0     0.006490    0.080309    0.00    0.00     0.00   \n",
       "prevalentHyp     3390.0     0.315339    0.464719    0.00    0.00     0.00   \n",
       "diabetes         3390.0     0.025664    0.158153    0.00    0.00     0.00   \n",
       "totChol          3352.0   237.074284   45.247430  107.00  206.00   234.00   \n",
       "sysBP            3390.0   132.601180   22.292030   83.50  117.00   128.50   \n",
       "diaBP            3390.0    82.883038   12.023581   48.00   74.50    82.00   \n",
       "BMI              3376.0    25.794964    4.115449   15.96   23.02    25.38   \n",
       "heartRate        3389.0    75.977279   11.971868   45.00   68.00    75.00   \n",
       "glucose          3086.0    82.086520   24.244753   40.00   71.00    78.00   \n",
       "TenYearCHD       3390.0     0.150737    0.357846    0.00    0.00     0.00   \n",
       "\n",
       "                     75%     max  \n",
       "id               2541.75  3389.0  \n",
       "age                56.00    70.0  \n",
       "education           3.00     4.0  \n",
       "cigsPerDay         20.00    70.0  \n",
       "BPMeds              0.00     1.0  \n",
       "prevalentStroke     0.00     1.0  \n",
       "prevalentHyp        1.00     1.0  \n",
       "diabetes            0.00     1.0  \n",
       "totChol           264.00   696.0  \n",
       "sysBP             144.00   295.0  \n",
       "diaBP              90.00   142.5  \n",
       "BMI                28.04    56.8  \n",
       "heartRate          83.00   143.0  \n",
       "glucose            87.00   394.0  \n",
       "TenYearCHD          0.00     1.0  "
      ]
     },
     "execution_count": 13,
     "metadata": {},
     "output_type": "execute_result"
    }
   ],
   "source": [
    "heart_data.describe().T"
   ]
  },
  {
   "cell_type": "markdown",
   "id": "bc1ee7ac",
   "metadata": {},
   "source": [
    "# 3. Data Wrangling and feature Engineering"
   ]
  },
  {
   "cell_type": "code",
   "execution_count": 14,
   "id": "50d757e0",
   "metadata": {},
   "outputs": [
    {
     "name": "stdout",
     "output_type": "stream",
     "text": [
      "['F' 'M']\n",
      "['YES' 'NO']\n"
     ]
    }
   ],
   "source": [
    "print(heart_data[\"sex\"].unique())\n",
    "print(heart_data[\"is_smoking\"].unique())"
   ]
  },
  {
   "cell_type": "markdown",
   "id": "bce21189",
   "metadata": {},
   "source": [
    "As there are no missing values in sex & is_smoking, we can encode them."
   ]
  },
  {
   "cell_type": "code",
   "execution_count": 15,
   "id": "f612df38",
   "metadata": {},
   "outputs": [],
   "source": [
    "sex_dummy=pd.get_dummies(heart_data[\"sex\"],drop_first=True)"
   ]
  },
  {
   "cell_type": "code",
   "execution_count": 16,
   "id": "4b1318ec",
   "metadata": {},
   "outputs": [],
   "source": [
    "is_smoking_dummy=pd.get_dummies(heart_data[\"is_smoking\"],drop_first=True)"
   ]
  },
  {
   "cell_type": "code",
   "execution_count": 17,
   "id": "b6c08b1a",
   "metadata": {},
   "outputs": [],
   "source": [
    "heart_data= pd.concat([heart_data,sex_dummy,is_smoking_dummy],axis=1)"
   ]
  },
  {
   "cell_type": "code",
   "execution_count": 18,
   "id": "27a3c298",
   "metadata": {},
   "outputs": [
    {
     "data": {
      "text/html": [
       "<div>\n",
       "<style scoped>\n",
       "    .dataframe tbody tr th:only-of-type {\n",
       "        vertical-align: middle;\n",
       "    }\n",
       "\n",
       "    .dataframe tbody tr th {\n",
       "        vertical-align: top;\n",
       "    }\n",
       "\n",
       "    .dataframe thead th {\n",
       "        text-align: right;\n",
       "    }\n",
       "</style>\n",
       "<table border=\"1\" class=\"dataframe\">\n",
       "  <thead>\n",
       "    <tr style=\"text-align: right;\">\n",
       "      <th></th>\n",
       "      <th>id</th>\n",
       "      <th>age</th>\n",
       "      <th>education</th>\n",
       "      <th>sex</th>\n",
       "      <th>is_smoking</th>\n",
       "      <th>cigsPerDay</th>\n",
       "      <th>BPMeds</th>\n",
       "      <th>prevalentStroke</th>\n",
       "      <th>prevalentHyp</th>\n",
       "      <th>diabetes</th>\n",
       "      <th>totChol</th>\n",
       "      <th>sysBP</th>\n",
       "      <th>diaBP</th>\n",
       "      <th>BMI</th>\n",
       "      <th>heartRate</th>\n",
       "      <th>glucose</th>\n",
       "      <th>TenYearCHD</th>\n",
       "      <th>M</th>\n",
       "      <th>YES</th>\n",
       "    </tr>\n",
       "  </thead>\n",
       "  <tbody>\n",
       "    <tr>\n",
       "      <th>0</th>\n",
       "      <td>0</td>\n",
       "      <td>64</td>\n",
       "      <td>2.0</td>\n",
       "      <td>F</td>\n",
       "      <td>YES</td>\n",
       "      <td>3.0</td>\n",
       "      <td>0.0</td>\n",
       "      <td>0</td>\n",
       "      <td>0</td>\n",
       "      <td>0</td>\n",
       "      <td>221.0</td>\n",
       "      <td>148.0</td>\n",
       "      <td>85.0</td>\n",
       "      <td>NaN</td>\n",
       "      <td>90.0</td>\n",
       "      <td>80.0</td>\n",
       "      <td>1</td>\n",
       "      <td>0</td>\n",
       "      <td>1</td>\n",
       "    </tr>\n",
       "    <tr>\n",
       "      <th>1</th>\n",
       "      <td>1</td>\n",
       "      <td>36</td>\n",
       "      <td>4.0</td>\n",
       "      <td>M</td>\n",
       "      <td>NO</td>\n",
       "      <td>0.0</td>\n",
       "      <td>0.0</td>\n",
       "      <td>0</td>\n",
       "      <td>1</td>\n",
       "      <td>0</td>\n",
       "      <td>212.0</td>\n",
       "      <td>168.0</td>\n",
       "      <td>98.0</td>\n",
       "      <td>29.77</td>\n",
       "      <td>72.0</td>\n",
       "      <td>75.0</td>\n",
       "      <td>0</td>\n",
       "      <td>1</td>\n",
       "      <td>0</td>\n",
       "    </tr>\n",
       "    <tr>\n",
       "      <th>2</th>\n",
       "      <td>2</td>\n",
       "      <td>46</td>\n",
       "      <td>1.0</td>\n",
       "      <td>F</td>\n",
       "      <td>YES</td>\n",
       "      <td>10.0</td>\n",
       "      <td>0.0</td>\n",
       "      <td>0</td>\n",
       "      <td>0</td>\n",
       "      <td>0</td>\n",
       "      <td>250.0</td>\n",
       "      <td>116.0</td>\n",
       "      <td>71.0</td>\n",
       "      <td>20.35</td>\n",
       "      <td>88.0</td>\n",
       "      <td>94.0</td>\n",
       "      <td>0</td>\n",
       "      <td>0</td>\n",
       "      <td>1</td>\n",
       "    </tr>\n",
       "    <tr>\n",
       "      <th>3</th>\n",
       "      <td>3</td>\n",
       "      <td>50</td>\n",
       "      <td>1.0</td>\n",
       "      <td>M</td>\n",
       "      <td>YES</td>\n",
       "      <td>20.0</td>\n",
       "      <td>0.0</td>\n",
       "      <td>0</td>\n",
       "      <td>1</td>\n",
       "      <td>0</td>\n",
       "      <td>233.0</td>\n",
       "      <td>158.0</td>\n",
       "      <td>88.0</td>\n",
       "      <td>28.26</td>\n",
       "      <td>68.0</td>\n",
       "      <td>94.0</td>\n",
       "      <td>1</td>\n",
       "      <td>1</td>\n",
       "      <td>1</td>\n",
       "    </tr>\n",
       "    <tr>\n",
       "      <th>4</th>\n",
       "      <td>4</td>\n",
       "      <td>64</td>\n",
       "      <td>1.0</td>\n",
       "      <td>F</td>\n",
       "      <td>YES</td>\n",
       "      <td>30.0</td>\n",
       "      <td>0.0</td>\n",
       "      <td>0</td>\n",
       "      <td>0</td>\n",
       "      <td>0</td>\n",
       "      <td>241.0</td>\n",
       "      <td>136.5</td>\n",
       "      <td>85.0</td>\n",
       "      <td>26.42</td>\n",
       "      <td>70.0</td>\n",
       "      <td>77.0</td>\n",
       "      <td>0</td>\n",
       "      <td>0</td>\n",
       "      <td>1</td>\n",
       "    </tr>\n",
       "  </tbody>\n",
       "</table>\n",
       "</div>"
      ],
      "text/plain": [
       "   id  age  education sex is_smoking  cigsPerDay  BPMeds  prevalentStroke  \\\n",
       "0   0   64        2.0   F        YES         3.0     0.0                0   \n",
       "1   1   36        4.0   M         NO         0.0     0.0                0   \n",
       "2   2   46        1.0   F        YES        10.0     0.0                0   \n",
       "3   3   50        1.0   M        YES        20.0     0.0                0   \n",
       "4   4   64        1.0   F        YES        30.0     0.0                0   \n",
       "\n",
       "   prevalentHyp  diabetes  totChol  sysBP  diaBP    BMI  heartRate  glucose  \\\n",
       "0             0         0    221.0  148.0   85.0    NaN       90.0     80.0   \n",
       "1             1         0    212.0  168.0   98.0  29.77       72.0     75.0   \n",
       "2             0         0    250.0  116.0   71.0  20.35       88.0     94.0   \n",
       "3             1         0    233.0  158.0   88.0  28.26       68.0     94.0   \n",
       "4             0         0    241.0  136.5   85.0  26.42       70.0     77.0   \n",
       "\n",
       "   TenYearCHD  M  YES  \n",
       "0           1  0    1  \n",
       "1           0  1    0  \n",
       "2           0  0    1  \n",
       "3           1  1    1  \n",
       "4           0  0    1  "
      ]
     },
     "execution_count": 18,
     "metadata": {},
     "output_type": "execute_result"
    }
   ],
   "source": [
    "heart_data.head()"
   ]
  },
  {
   "cell_type": "code",
   "execution_count": 19,
   "id": "b5a93265",
   "metadata": {},
   "outputs": [],
   "source": [
    "heart_data.drop([\"sex\",\"is_smoking\",\"id\",\"education\"],axis=1,inplace=True)"
   ]
  },
  {
   "cell_type": "code",
   "execution_count": 20,
   "id": "dd373214",
   "metadata": {},
   "outputs": [],
   "source": [
    "heart_data[\"M\"]=heart_data[\"M\"].astype(\"int64\")\n",
    "heart_data[\"YES\"]=heart_data[\"YES\"].astype(\"int64\")"
   ]
  },
  {
   "cell_type": "code",
   "execution_count": 21,
   "id": "0283ab45",
   "metadata": {},
   "outputs": [
    {
     "data": {
      "text/plain": [
       "age                  int64\n",
       "cigsPerDay         float64\n",
       "BPMeds             float64\n",
       "prevalentStroke      int64\n",
       "prevalentHyp         int64\n",
       "diabetes             int64\n",
       "totChol            float64\n",
       "sysBP              float64\n",
       "diaBP              float64\n",
       "BMI                float64\n",
       "heartRate          float64\n",
       "glucose            float64\n",
       "TenYearCHD           int64\n",
       "M                    int64\n",
       "YES                  int64\n",
       "dtype: object"
      ]
     },
     "execution_count": 21,
     "metadata": {},
     "output_type": "execute_result"
    }
   ],
   "source": [
    "heart_data.dtypes"
   ]
  },
  {
   "cell_type": "markdown",
   "id": "90fa9eb5",
   "metadata": {},
   "source": [
    "Here, we have removed sex, is_smoking as we have already encoded them. And from the basis intution we have removed id & education as they dont provide any weightage towards predictor feature prediction."
   ]
  },
  {
   "cell_type": "code",
   "execution_count": 22,
   "id": "59971a61",
   "metadata": {},
   "outputs": [
    {
     "data": {
      "text/plain": [
       "glucose            304\n",
       "BPMeds              44\n",
       "totChol             38\n",
       "cigsPerDay          22\n",
       "BMI                 14\n",
       "heartRate            1\n",
       "age                  0\n",
       "prevalentStroke      0\n",
       "prevalentHyp         0\n",
       "diabetes             0\n",
       "sysBP                0\n",
       "diaBP                0\n",
       "TenYearCHD           0\n",
       "M                    0\n",
       "YES                  0\n",
       "dtype: int64"
      ]
     },
     "execution_count": 22,
     "metadata": {},
     "output_type": "execute_result"
    }
   ],
   "source": [
    "# check for missing values\n",
    "heart_data.isnull().sum().sort_values(ascending=False)"
   ]
  },
  {
   "cell_type": "code",
   "execution_count": 23,
   "id": "1a676891",
   "metadata": {},
   "outputs": [],
   "source": [
    "#create new dataset for missing values\n",
    "missing_heart_data = heart_data[[\"glucose\",\"BPMeds\",\"totChol\",\"cigsPerDay\",\"BMI\",\"heartRate\"]]"
   ]
  },
  {
   "cell_type": "code",
   "execution_count": 24,
   "id": "118054c3",
   "metadata": {},
   "outputs": [
    {
     "data": {
      "text/html": [
       "<div>\n",
       "<style scoped>\n",
       "    .dataframe tbody tr th:only-of-type {\n",
       "        vertical-align: middle;\n",
       "    }\n",
       "\n",
       "    .dataframe tbody tr th {\n",
       "        vertical-align: top;\n",
       "    }\n",
       "\n",
       "    .dataframe thead th {\n",
       "        text-align: right;\n",
       "    }\n",
       "</style>\n",
       "<table border=\"1\" class=\"dataframe\">\n",
       "  <thead>\n",
       "    <tr style=\"text-align: right;\">\n",
       "      <th></th>\n",
       "      <th>glucose</th>\n",
       "      <th>BPMeds</th>\n",
       "      <th>totChol</th>\n",
       "      <th>cigsPerDay</th>\n",
       "      <th>BMI</th>\n",
       "      <th>heartRate</th>\n",
       "    </tr>\n",
       "  </thead>\n",
       "  <tbody>\n",
       "    <tr>\n",
       "      <th>0</th>\n",
       "      <td>80.0</td>\n",
       "      <td>0.0</td>\n",
       "      <td>221.0</td>\n",
       "      <td>3.0</td>\n",
       "      <td>NaN</td>\n",
       "      <td>90.0</td>\n",
       "    </tr>\n",
       "    <tr>\n",
       "      <th>1</th>\n",
       "      <td>75.0</td>\n",
       "      <td>0.0</td>\n",
       "      <td>212.0</td>\n",
       "      <td>0.0</td>\n",
       "      <td>29.77</td>\n",
       "      <td>72.0</td>\n",
       "    </tr>\n",
       "    <tr>\n",
       "      <th>2</th>\n",
       "      <td>94.0</td>\n",
       "      <td>0.0</td>\n",
       "      <td>250.0</td>\n",
       "      <td>10.0</td>\n",
       "      <td>20.35</td>\n",
       "      <td>88.0</td>\n",
       "    </tr>\n",
       "    <tr>\n",
       "      <th>3</th>\n",
       "      <td>94.0</td>\n",
       "      <td>0.0</td>\n",
       "      <td>233.0</td>\n",
       "      <td>20.0</td>\n",
       "      <td>28.26</td>\n",
       "      <td>68.0</td>\n",
       "    </tr>\n",
       "    <tr>\n",
       "      <th>4</th>\n",
       "      <td>77.0</td>\n",
       "      <td>0.0</td>\n",
       "      <td>241.0</td>\n",
       "      <td>30.0</td>\n",
       "      <td>26.42</td>\n",
       "      <td>70.0</td>\n",
       "    </tr>\n",
       "    <tr>\n",
       "      <th>...</th>\n",
       "      <td>...</td>\n",
       "      <td>...</td>\n",
       "      <td>...</td>\n",
       "      <td>...</td>\n",
       "      <td>...</td>\n",
       "      <td>...</td>\n",
       "    </tr>\n",
       "    <tr>\n",
       "      <th>3385</th>\n",
       "      <td>103.0</td>\n",
       "      <td>0.0</td>\n",
       "      <td>261.0</td>\n",
       "      <td>0.0</td>\n",
       "      <td>29.28</td>\n",
       "      <td>70.0</td>\n",
       "    </tr>\n",
       "    <tr>\n",
       "      <th>3386</th>\n",
       "      <td>84.0</td>\n",
       "      <td>0.0</td>\n",
       "      <td>199.0</td>\n",
       "      <td>0.0</td>\n",
       "      <td>21.96</td>\n",
       "      <td>80.0</td>\n",
       "    </tr>\n",
       "    <tr>\n",
       "      <th>3387</th>\n",
       "      <td>72.0</td>\n",
       "      <td>0.0</td>\n",
       "      <td>352.0</td>\n",
       "      <td>3.0</td>\n",
       "      <td>28.92</td>\n",
       "      <td>73.0</td>\n",
       "    </tr>\n",
       "    <tr>\n",
       "      <th>3388</th>\n",
       "      <td>85.0</td>\n",
       "      <td>NaN</td>\n",
       "      <td>191.0</td>\n",
       "      <td>0.0</td>\n",
       "      <td>23.01</td>\n",
       "      <td>80.0</td>\n",
       "    </tr>\n",
       "    <tr>\n",
       "      <th>3389</th>\n",
       "      <td>92.0</td>\n",
       "      <td>0.0</td>\n",
       "      <td>288.0</td>\n",
       "      <td>0.0</td>\n",
       "      <td>29.88</td>\n",
       "      <td>79.0</td>\n",
       "    </tr>\n",
       "  </tbody>\n",
       "</table>\n",
       "<p>3390 rows × 6 columns</p>\n",
       "</div>"
      ],
      "text/plain": [
       "      glucose  BPMeds  totChol  cigsPerDay    BMI  heartRate\n",
       "0        80.0     0.0    221.0         3.0    NaN       90.0\n",
       "1        75.0     0.0    212.0         0.0  29.77       72.0\n",
       "2        94.0     0.0    250.0        10.0  20.35       88.0\n",
       "3        94.0     0.0    233.0        20.0  28.26       68.0\n",
       "4        77.0     0.0    241.0        30.0  26.42       70.0\n",
       "...       ...     ...      ...         ...    ...        ...\n",
       "3385    103.0     0.0    261.0         0.0  29.28       70.0\n",
       "3386     84.0     0.0    199.0         0.0  21.96       80.0\n",
       "3387     72.0     0.0    352.0         3.0  28.92       73.0\n",
       "3388     85.0     NaN    191.0         0.0  23.01       80.0\n",
       "3389     92.0     0.0    288.0         0.0  29.88       79.0\n",
       "\n",
       "[3390 rows x 6 columns]"
      ]
     },
     "execution_count": 24,
     "metadata": {},
     "output_type": "execute_result"
    }
   ],
   "source": [
    "missing_heart_data"
   ]
  },
  {
   "cell_type": "markdown",
   "id": "2b708cbb",
   "metadata": {},
   "source": [
    "Now drop these columns from original data set"
   ]
  },
  {
   "cell_type": "code",
   "execution_count": 25,
   "id": "da1bd06a",
   "metadata": {},
   "outputs": [],
   "source": [
    "remaining_heart_data=heart_data.drop([\"glucose\",\"BPMeds\",\"totChol\",\"cigsPerDay\",\"BMI\",\"heartRate\"],axis=1)"
   ]
  },
  {
   "cell_type": "code",
   "execution_count": 26,
   "id": "fac394e3",
   "metadata": {},
   "outputs": [
    {
     "data": {
      "text/html": [
       "<div>\n",
       "<style scoped>\n",
       "    .dataframe tbody tr th:only-of-type {\n",
       "        vertical-align: middle;\n",
       "    }\n",
       "\n",
       "    .dataframe tbody tr th {\n",
       "        vertical-align: top;\n",
       "    }\n",
       "\n",
       "    .dataframe thead th {\n",
       "        text-align: right;\n",
       "    }\n",
       "</style>\n",
       "<table border=\"1\" class=\"dataframe\">\n",
       "  <thead>\n",
       "    <tr style=\"text-align: right;\">\n",
       "      <th></th>\n",
       "      <th>age</th>\n",
       "      <th>prevalentStroke</th>\n",
       "      <th>prevalentHyp</th>\n",
       "      <th>diabetes</th>\n",
       "      <th>sysBP</th>\n",
       "      <th>diaBP</th>\n",
       "      <th>TenYearCHD</th>\n",
       "      <th>M</th>\n",
       "      <th>YES</th>\n",
       "    </tr>\n",
       "  </thead>\n",
       "  <tbody>\n",
       "    <tr>\n",
       "      <th>0</th>\n",
       "      <td>64</td>\n",
       "      <td>0</td>\n",
       "      <td>0</td>\n",
       "      <td>0</td>\n",
       "      <td>148.0</td>\n",
       "      <td>85.0</td>\n",
       "      <td>1</td>\n",
       "      <td>0</td>\n",
       "      <td>1</td>\n",
       "    </tr>\n",
       "    <tr>\n",
       "      <th>1</th>\n",
       "      <td>36</td>\n",
       "      <td>0</td>\n",
       "      <td>1</td>\n",
       "      <td>0</td>\n",
       "      <td>168.0</td>\n",
       "      <td>98.0</td>\n",
       "      <td>0</td>\n",
       "      <td>1</td>\n",
       "      <td>0</td>\n",
       "    </tr>\n",
       "    <tr>\n",
       "      <th>2</th>\n",
       "      <td>46</td>\n",
       "      <td>0</td>\n",
       "      <td>0</td>\n",
       "      <td>0</td>\n",
       "      <td>116.0</td>\n",
       "      <td>71.0</td>\n",
       "      <td>0</td>\n",
       "      <td>0</td>\n",
       "      <td>1</td>\n",
       "    </tr>\n",
       "    <tr>\n",
       "      <th>3</th>\n",
       "      <td>50</td>\n",
       "      <td>0</td>\n",
       "      <td>1</td>\n",
       "      <td>0</td>\n",
       "      <td>158.0</td>\n",
       "      <td>88.0</td>\n",
       "      <td>1</td>\n",
       "      <td>1</td>\n",
       "      <td>1</td>\n",
       "    </tr>\n",
       "    <tr>\n",
       "      <th>4</th>\n",
       "      <td>64</td>\n",
       "      <td>0</td>\n",
       "      <td>0</td>\n",
       "      <td>0</td>\n",
       "      <td>136.5</td>\n",
       "      <td>85.0</td>\n",
       "      <td>0</td>\n",
       "      <td>0</td>\n",
       "      <td>1</td>\n",
       "    </tr>\n",
       "    <tr>\n",
       "      <th>...</th>\n",
       "      <td>...</td>\n",
       "      <td>...</td>\n",
       "      <td>...</td>\n",
       "      <td>...</td>\n",
       "      <td>...</td>\n",
       "      <td>...</td>\n",
       "      <td>...</td>\n",
       "      <td>...</td>\n",
       "      <td>...</td>\n",
       "    </tr>\n",
       "    <tr>\n",
       "      <th>3385</th>\n",
       "      <td>60</td>\n",
       "      <td>0</td>\n",
       "      <td>0</td>\n",
       "      <td>0</td>\n",
       "      <td>123.5</td>\n",
       "      <td>79.0</td>\n",
       "      <td>0</td>\n",
       "      <td>0</td>\n",
       "      <td>0</td>\n",
       "    </tr>\n",
       "    <tr>\n",
       "      <th>3386</th>\n",
       "      <td>46</td>\n",
       "      <td>0</td>\n",
       "      <td>0</td>\n",
       "      <td>0</td>\n",
       "      <td>102.0</td>\n",
       "      <td>56.0</td>\n",
       "      <td>0</td>\n",
       "      <td>0</td>\n",
       "      <td>0</td>\n",
       "    </tr>\n",
       "    <tr>\n",
       "      <th>3387</th>\n",
       "      <td>44</td>\n",
       "      <td>0</td>\n",
       "      <td>1</td>\n",
       "      <td>0</td>\n",
       "      <td>164.0</td>\n",
       "      <td>119.0</td>\n",
       "      <td>1</td>\n",
       "      <td>1</td>\n",
       "      <td>1</td>\n",
       "    </tr>\n",
       "    <tr>\n",
       "      <th>3388</th>\n",
       "      <td>60</td>\n",
       "      <td>0</td>\n",
       "      <td>1</td>\n",
       "      <td>0</td>\n",
       "      <td>167.0</td>\n",
       "      <td>105.0</td>\n",
       "      <td>0</td>\n",
       "      <td>1</td>\n",
       "      <td>0</td>\n",
       "    </tr>\n",
       "    <tr>\n",
       "      <th>3389</th>\n",
       "      <td>54</td>\n",
       "      <td>0</td>\n",
       "      <td>0</td>\n",
       "      <td>0</td>\n",
       "      <td>124.0</td>\n",
       "      <td>77.0</td>\n",
       "      <td>0</td>\n",
       "      <td>0</td>\n",
       "      <td>0</td>\n",
       "    </tr>\n",
       "  </tbody>\n",
       "</table>\n",
       "<p>3390 rows × 9 columns</p>\n",
       "</div>"
      ],
      "text/plain": [
       "      age  prevalentStroke  prevalentHyp  diabetes  sysBP  diaBP  TenYearCHD  \\\n",
       "0      64                0             0         0  148.0   85.0           1   \n",
       "1      36                0             1         0  168.0   98.0           0   \n",
       "2      46                0             0         0  116.0   71.0           0   \n",
       "3      50                0             1         0  158.0   88.0           1   \n",
       "4      64                0             0         0  136.5   85.0           0   \n",
       "...   ...              ...           ...       ...    ...    ...         ...   \n",
       "3385   60                0             0         0  123.5   79.0           0   \n",
       "3386   46                0             0         0  102.0   56.0           0   \n",
       "3387   44                0             1         0  164.0  119.0           1   \n",
       "3388   60                0             1         0  167.0  105.0           0   \n",
       "3389   54                0             0         0  124.0   77.0           0   \n",
       "\n",
       "      M  YES  \n",
       "0     0    1  \n",
       "1     1    0  \n",
       "2     0    1  \n",
       "3     1    1  \n",
       "4     0    1  \n",
       "...  ..  ...  \n",
       "3385  0    0  \n",
       "3386  0    0  \n",
       "3387  1    1  \n",
       "3388  1    0  \n",
       "3389  0    0  \n",
       "\n",
       "[3390 rows x 9 columns]"
      ]
     },
     "execution_count": 26,
     "metadata": {},
     "output_type": "execute_result"
    }
   ],
   "source": [
    "remaining_heart_data"
   ]
  },
  {
   "cell_type": "markdown",
   "id": "867b736a",
   "metadata": {},
   "source": [
    "Here, we used KNN(K nearest neighbour Imputation) method to fill the missing data of variables."
   ]
  },
  {
   "cell_type": "code",
   "execution_count": 27,
   "id": "50a43fda",
   "metadata": {},
   "outputs": [],
   "source": [
    "from sklearn.impute import KNNImputer"
   ]
  },
  {
   "cell_type": "code",
   "execution_count": 28,
   "id": "d157c0d2",
   "metadata": {},
   "outputs": [],
   "source": [
    "imputer=KNNImputer()"
   ]
  },
  {
   "cell_type": "code",
   "execution_count": 29,
   "id": "cbc34081",
   "metadata": {},
   "outputs": [],
   "source": [
    "heart_dataimp = imputer.fit_transform(missing_heart_data)"
   ]
  },
  {
   "cell_type": "code",
   "execution_count": 30,
   "id": "19b08bf0",
   "metadata": {},
   "outputs": [
    {
     "data": {
      "text/plain": [
       "array([[ 80.   ,   0.   , 221.   ,   3.   ,  27.736,  90.   ],\n",
       "       [ 75.   ,   0.   , 212.   ,   0.   ,  29.77 ,  72.   ],\n",
       "       [ 94.   ,   0.   , 250.   ,  10.   ,  20.35 ,  88.   ],\n",
       "       ...,\n",
       "       [ 72.   ,   0.   , 352.   ,   3.   ,  28.92 ,  73.   ],\n",
       "       [ 85.   ,   0.   , 191.   ,   0.   ,  23.01 ,  80.   ],\n",
       "       [ 92.   ,   0.   , 288.   ,   0.   ,  29.88 ,  79.   ]])"
      ]
     },
     "execution_count": 30,
     "metadata": {},
     "output_type": "execute_result"
    }
   ],
   "source": [
    "heart_dataimp"
   ]
  },
  {
   "cell_type": "code",
   "execution_count": 31,
   "id": "945dda16",
   "metadata": {},
   "outputs": [],
   "source": [
    "heart_dataimp =pd.DataFrame(heart_dataimp,columns=missing_heart_data.columns)"
   ]
  },
  {
   "cell_type": "code",
   "execution_count": 32,
   "id": "c28f7ab0",
   "metadata": {},
   "outputs": [
    {
     "data": {
      "text/html": [
       "<div>\n",
       "<style scoped>\n",
       "    .dataframe tbody tr th:only-of-type {\n",
       "        vertical-align: middle;\n",
       "    }\n",
       "\n",
       "    .dataframe tbody tr th {\n",
       "        vertical-align: top;\n",
       "    }\n",
       "\n",
       "    .dataframe thead th {\n",
       "        text-align: right;\n",
       "    }\n",
       "</style>\n",
       "<table border=\"1\" class=\"dataframe\">\n",
       "  <thead>\n",
       "    <tr style=\"text-align: right;\">\n",
       "      <th></th>\n",
       "      <th>glucose</th>\n",
       "      <th>BPMeds</th>\n",
       "      <th>totChol</th>\n",
       "      <th>cigsPerDay</th>\n",
       "      <th>BMI</th>\n",
       "      <th>heartRate</th>\n",
       "    </tr>\n",
       "  </thead>\n",
       "  <tbody>\n",
       "    <tr>\n",
       "      <th>0</th>\n",
       "      <td>80.0</td>\n",
       "      <td>0.0</td>\n",
       "      <td>221.0</td>\n",
       "      <td>3.0</td>\n",
       "      <td>27.736</td>\n",
       "      <td>90.0</td>\n",
       "    </tr>\n",
       "    <tr>\n",
       "      <th>1</th>\n",
       "      <td>75.0</td>\n",
       "      <td>0.0</td>\n",
       "      <td>212.0</td>\n",
       "      <td>0.0</td>\n",
       "      <td>29.770</td>\n",
       "      <td>72.0</td>\n",
       "    </tr>\n",
       "    <tr>\n",
       "      <th>2</th>\n",
       "      <td>94.0</td>\n",
       "      <td>0.0</td>\n",
       "      <td>250.0</td>\n",
       "      <td>10.0</td>\n",
       "      <td>20.350</td>\n",
       "      <td>88.0</td>\n",
       "    </tr>\n",
       "    <tr>\n",
       "      <th>3</th>\n",
       "      <td>94.0</td>\n",
       "      <td>0.0</td>\n",
       "      <td>233.0</td>\n",
       "      <td>20.0</td>\n",
       "      <td>28.260</td>\n",
       "      <td>68.0</td>\n",
       "    </tr>\n",
       "    <tr>\n",
       "      <th>4</th>\n",
       "      <td>77.0</td>\n",
       "      <td>0.0</td>\n",
       "      <td>241.0</td>\n",
       "      <td>30.0</td>\n",
       "      <td>26.420</td>\n",
       "      <td>70.0</td>\n",
       "    </tr>\n",
       "    <tr>\n",
       "      <th>...</th>\n",
       "      <td>...</td>\n",
       "      <td>...</td>\n",
       "      <td>...</td>\n",
       "      <td>...</td>\n",
       "      <td>...</td>\n",
       "      <td>...</td>\n",
       "    </tr>\n",
       "    <tr>\n",
       "      <th>3385</th>\n",
       "      <td>103.0</td>\n",
       "      <td>0.0</td>\n",
       "      <td>261.0</td>\n",
       "      <td>0.0</td>\n",
       "      <td>29.280</td>\n",
       "      <td>70.0</td>\n",
       "    </tr>\n",
       "    <tr>\n",
       "      <th>3386</th>\n",
       "      <td>84.0</td>\n",
       "      <td>0.0</td>\n",
       "      <td>199.0</td>\n",
       "      <td>0.0</td>\n",
       "      <td>21.960</td>\n",
       "      <td>80.0</td>\n",
       "    </tr>\n",
       "    <tr>\n",
       "      <th>3387</th>\n",
       "      <td>72.0</td>\n",
       "      <td>0.0</td>\n",
       "      <td>352.0</td>\n",
       "      <td>3.0</td>\n",
       "      <td>28.920</td>\n",
       "      <td>73.0</td>\n",
       "    </tr>\n",
       "    <tr>\n",
       "      <th>3388</th>\n",
       "      <td>85.0</td>\n",
       "      <td>0.0</td>\n",
       "      <td>191.0</td>\n",
       "      <td>0.0</td>\n",
       "      <td>23.010</td>\n",
       "      <td>80.0</td>\n",
       "    </tr>\n",
       "    <tr>\n",
       "      <th>3389</th>\n",
       "      <td>92.0</td>\n",
       "      <td>0.0</td>\n",
       "      <td>288.0</td>\n",
       "      <td>0.0</td>\n",
       "      <td>29.880</td>\n",
       "      <td>79.0</td>\n",
       "    </tr>\n",
       "  </tbody>\n",
       "</table>\n",
       "<p>3390 rows × 6 columns</p>\n",
       "</div>"
      ],
      "text/plain": [
       "      glucose  BPMeds  totChol  cigsPerDay     BMI  heartRate\n",
       "0        80.0     0.0    221.0         3.0  27.736       90.0\n",
       "1        75.0     0.0    212.0         0.0  29.770       72.0\n",
       "2        94.0     0.0    250.0        10.0  20.350       88.0\n",
       "3        94.0     0.0    233.0        20.0  28.260       68.0\n",
       "4        77.0     0.0    241.0        30.0  26.420       70.0\n",
       "...       ...     ...      ...         ...     ...        ...\n",
       "3385    103.0     0.0    261.0         0.0  29.280       70.0\n",
       "3386     84.0     0.0    199.0         0.0  21.960       80.0\n",
       "3387     72.0     0.0    352.0         3.0  28.920       73.0\n",
       "3388     85.0     0.0    191.0         0.0  23.010       80.0\n",
       "3389     92.0     0.0    288.0         0.0  29.880       79.0\n",
       "\n",
       "[3390 rows x 6 columns]"
      ]
     },
     "execution_count": 32,
     "metadata": {},
     "output_type": "execute_result"
    }
   ],
   "source": [
    "heart_dataimp"
   ]
  },
  {
   "cell_type": "code",
   "execution_count": 33,
   "id": "a2a25490",
   "metadata": {},
   "outputs": [
    {
     "data": {
      "text/plain": [
       "glucose       0\n",
       "BPMeds        0\n",
       "totChol       0\n",
       "cigsPerDay    0\n",
       "BMI           0\n",
       "heartRate     0\n",
       "dtype: int64"
      ]
     },
     "execution_count": 33,
     "metadata": {},
     "output_type": "execute_result"
    }
   ],
   "source": [
    "heart_dataimp.isnull().sum().sort_values(ascending=False)"
   ]
  },
  {
   "cell_type": "markdown",
   "id": "7c54fa64",
   "metadata": {},
   "source": [
    " Therefore there are no missing values. now add both remainig_heart_data & heart_dataimp "
   ]
  },
  {
   "cell_type": "code",
   "execution_count": 34,
   "id": "09e7552b",
   "metadata": {},
   "outputs": [],
   "source": [
    "new_heart_data=pd.concat([remaining_heart_data,heart_dataimp],axis=1) #column concatenation"
   ]
  },
  {
   "cell_type": "code",
   "execution_count": 35,
   "id": "803d2c41",
   "metadata": {},
   "outputs": [
    {
     "data": {
      "text/html": [
       "<div>\n",
       "<style scoped>\n",
       "    .dataframe tbody tr th:only-of-type {\n",
       "        vertical-align: middle;\n",
       "    }\n",
       "\n",
       "    .dataframe tbody tr th {\n",
       "        vertical-align: top;\n",
       "    }\n",
       "\n",
       "    .dataframe thead th {\n",
       "        text-align: right;\n",
       "    }\n",
       "</style>\n",
       "<table border=\"1\" class=\"dataframe\">\n",
       "  <thead>\n",
       "    <tr style=\"text-align: right;\">\n",
       "      <th></th>\n",
       "      <th>age</th>\n",
       "      <th>prevalentStroke</th>\n",
       "      <th>prevalentHyp</th>\n",
       "      <th>diabetes</th>\n",
       "      <th>sysBP</th>\n",
       "      <th>diaBP</th>\n",
       "      <th>TenYearCHD</th>\n",
       "      <th>M</th>\n",
       "      <th>YES</th>\n",
       "      <th>glucose</th>\n",
       "      <th>BPMeds</th>\n",
       "      <th>totChol</th>\n",
       "      <th>cigsPerDay</th>\n",
       "      <th>BMI</th>\n",
       "      <th>heartRate</th>\n",
       "    </tr>\n",
       "  </thead>\n",
       "  <tbody>\n",
       "    <tr>\n",
       "      <th>0</th>\n",
       "      <td>64</td>\n",
       "      <td>0</td>\n",
       "      <td>0</td>\n",
       "      <td>0</td>\n",
       "      <td>148.0</td>\n",
       "      <td>85.0</td>\n",
       "      <td>1</td>\n",
       "      <td>0</td>\n",
       "      <td>1</td>\n",
       "      <td>80.0</td>\n",
       "      <td>0.0</td>\n",
       "      <td>221.0</td>\n",
       "      <td>3.0</td>\n",
       "      <td>27.736</td>\n",
       "      <td>90.0</td>\n",
       "    </tr>\n",
       "    <tr>\n",
       "      <th>1</th>\n",
       "      <td>36</td>\n",
       "      <td>0</td>\n",
       "      <td>1</td>\n",
       "      <td>0</td>\n",
       "      <td>168.0</td>\n",
       "      <td>98.0</td>\n",
       "      <td>0</td>\n",
       "      <td>1</td>\n",
       "      <td>0</td>\n",
       "      <td>75.0</td>\n",
       "      <td>0.0</td>\n",
       "      <td>212.0</td>\n",
       "      <td>0.0</td>\n",
       "      <td>29.770</td>\n",
       "      <td>72.0</td>\n",
       "    </tr>\n",
       "    <tr>\n",
       "      <th>2</th>\n",
       "      <td>46</td>\n",
       "      <td>0</td>\n",
       "      <td>0</td>\n",
       "      <td>0</td>\n",
       "      <td>116.0</td>\n",
       "      <td>71.0</td>\n",
       "      <td>0</td>\n",
       "      <td>0</td>\n",
       "      <td>1</td>\n",
       "      <td>94.0</td>\n",
       "      <td>0.0</td>\n",
       "      <td>250.0</td>\n",
       "      <td>10.0</td>\n",
       "      <td>20.350</td>\n",
       "      <td>88.0</td>\n",
       "    </tr>\n",
       "    <tr>\n",
       "      <th>3</th>\n",
       "      <td>50</td>\n",
       "      <td>0</td>\n",
       "      <td>1</td>\n",
       "      <td>0</td>\n",
       "      <td>158.0</td>\n",
       "      <td>88.0</td>\n",
       "      <td>1</td>\n",
       "      <td>1</td>\n",
       "      <td>1</td>\n",
       "      <td>94.0</td>\n",
       "      <td>0.0</td>\n",
       "      <td>233.0</td>\n",
       "      <td>20.0</td>\n",
       "      <td>28.260</td>\n",
       "      <td>68.0</td>\n",
       "    </tr>\n",
       "    <tr>\n",
       "      <th>4</th>\n",
       "      <td>64</td>\n",
       "      <td>0</td>\n",
       "      <td>0</td>\n",
       "      <td>0</td>\n",
       "      <td>136.5</td>\n",
       "      <td>85.0</td>\n",
       "      <td>0</td>\n",
       "      <td>0</td>\n",
       "      <td>1</td>\n",
       "      <td>77.0</td>\n",
       "      <td>0.0</td>\n",
       "      <td>241.0</td>\n",
       "      <td>30.0</td>\n",
       "      <td>26.420</td>\n",
       "      <td>70.0</td>\n",
       "    </tr>\n",
       "    <tr>\n",
       "      <th>...</th>\n",
       "      <td>...</td>\n",
       "      <td>...</td>\n",
       "      <td>...</td>\n",
       "      <td>...</td>\n",
       "      <td>...</td>\n",
       "      <td>...</td>\n",
       "      <td>...</td>\n",
       "      <td>...</td>\n",
       "      <td>...</td>\n",
       "      <td>...</td>\n",
       "      <td>...</td>\n",
       "      <td>...</td>\n",
       "      <td>...</td>\n",
       "      <td>...</td>\n",
       "      <td>...</td>\n",
       "    </tr>\n",
       "    <tr>\n",
       "      <th>3385</th>\n",
       "      <td>60</td>\n",
       "      <td>0</td>\n",
       "      <td>0</td>\n",
       "      <td>0</td>\n",
       "      <td>123.5</td>\n",
       "      <td>79.0</td>\n",
       "      <td>0</td>\n",
       "      <td>0</td>\n",
       "      <td>0</td>\n",
       "      <td>103.0</td>\n",
       "      <td>0.0</td>\n",
       "      <td>261.0</td>\n",
       "      <td>0.0</td>\n",
       "      <td>29.280</td>\n",
       "      <td>70.0</td>\n",
       "    </tr>\n",
       "    <tr>\n",
       "      <th>3386</th>\n",
       "      <td>46</td>\n",
       "      <td>0</td>\n",
       "      <td>0</td>\n",
       "      <td>0</td>\n",
       "      <td>102.0</td>\n",
       "      <td>56.0</td>\n",
       "      <td>0</td>\n",
       "      <td>0</td>\n",
       "      <td>0</td>\n",
       "      <td>84.0</td>\n",
       "      <td>0.0</td>\n",
       "      <td>199.0</td>\n",
       "      <td>0.0</td>\n",
       "      <td>21.960</td>\n",
       "      <td>80.0</td>\n",
       "    </tr>\n",
       "    <tr>\n",
       "      <th>3387</th>\n",
       "      <td>44</td>\n",
       "      <td>0</td>\n",
       "      <td>1</td>\n",
       "      <td>0</td>\n",
       "      <td>164.0</td>\n",
       "      <td>119.0</td>\n",
       "      <td>1</td>\n",
       "      <td>1</td>\n",
       "      <td>1</td>\n",
       "      <td>72.0</td>\n",
       "      <td>0.0</td>\n",
       "      <td>352.0</td>\n",
       "      <td>3.0</td>\n",
       "      <td>28.920</td>\n",
       "      <td>73.0</td>\n",
       "    </tr>\n",
       "    <tr>\n",
       "      <th>3388</th>\n",
       "      <td>60</td>\n",
       "      <td>0</td>\n",
       "      <td>1</td>\n",
       "      <td>0</td>\n",
       "      <td>167.0</td>\n",
       "      <td>105.0</td>\n",
       "      <td>0</td>\n",
       "      <td>1</td>\n",
       "      <td>0</td>\n",
       "      <td>85.0</td>\n",
       "      <td>0.0</td>\n",
       "      <td>191.0</td>\n",
       "      <td>0.0</td>\n",
       "      <td>23.010</td>\n",
       "      <td>80.0</td>\n",
       "    </tr>\n",
       "    <tr>\n",
       "      <th>3389</th>\n",
       "      <td>54</td>\n",
       "      <td>0</td>\n",
       "      <td>0</td>\n",
       "      <td>0</td>\n",
       "      <td>124.0</td>\n",
       "      <td>77.0</td>\n",
       "      <td>0</td>\n",
       "      <td>0</td>\n",
       "      <td>0</td>\n",
       "      <td>92.0</td>\n",
       "      <td>0.0</td>\n",
       "      <td>288.0</td>\n",
       "      <td>0.0</td>\n",
       "      <td>29.880</td>\n",
       "      <td>79.0</td>\n",
       "    </tr>\n",
       "  </tbody>\n",
       "</table>\n",
       "<p>3390 rows × 15 columns</p>\n",
       "</div>"
      ],
      "text/plain": [
       "      age  prevalentStroke  prevalentHyp  diabetes  sysBP  diaBP  TenYearCHD  \\\n",
       "0      64                0             0         0  148.0   85.0           1   \n",
       "1      36                0             1         0  168.0   98.0           0   \n",
       "2      46                0             0         0  116.0   71.0           0   \n",
       "3      50                0             1         0  158.0   88.0           1   \n",
       "4      64                0             0         0  136.5   85.0           0   \n",
       "...   ...              ...           ...       ...    ...    ...         ...   \n",
       "3385   60                0             0         0  123.5   79.0           0   \n",
       "3386   46                0             0         0  102.0   56.0           0   \n",
       "3387   44                0             1         0  164.0  119.0           1   \n",
       "3388   60                0             1         0  167.0  105.0           0   \n",
       "3389   54                0             0         0  124.0   77.0           0   \n",
       "\n",
       "      M  YES  glucose  BPMeds  totChol  cigsPerDay     BMI  heartRate  \n",
       "0     0    1     80.0     0.0    221.0         3.0  27.736       90.0  \n",
       "1     1    0     75.0     0.0    212.0         0.0  29.770       72.0  \n",
       "2     0    1     94.0     0.0    250.0        10.0  20.350       88.0  \n",
       "3     1    1     94.0     0.0    233.0        20.0  28.260       68.0  \n",
       "4     0    1     77.0     0.0    241.0        30.0  26.420       70.0  \n",
       "...  ..  ...      ...     ...      ...         ...     ...        ...  \n",
       "3385  0    0    103.0     0.0    261.0         0.0  29.280       70.0  \n",
       "3386  0    0     84.0     0.0    199.0         0.0  21.960       80.0  \n",
       "3387  1    1     72.0     0.0    352.0         3.0  28.920       73.0  \n",
       "3388  1    0     85.0     0.0    191.0         0.0  23.010       80.0  \n",
       "3389  0    0     92.0     0.0    288.0         0.0  29.880       79.0  \n",
       "\n",
       "[3390 rows x 15 columns]"
      ]
     },
     "execution_count": 35,
     "metadata": {},
     "output_type": "execute_result"
    }
   ],
   "source": [
    "new_heart_data"
   ]
  },
  {
   "cell_type": "code",
   "execution_count": 36,
   "id": "4bbe2e92",
   "metadata": {},
   "outputs": [
    {
     "data": {
      "text/plain": [
       "age                0\n",
       "prevalentStroke    0\n",
       "prevalentHyp       0\n",
       "diabetes           0\n",
       "sysBP              0\n",
       "diaBP              0\n",
       "TenYearCHD         0\n",
       "M                  0\n",
       "YES                0\n",
       "glucose            0\n",
       "BPMeds             0\n",
       "totChol            0\n",
       "cigsPerDay         0\n",
       "BMI                0\n",
       "heartRate          0\n",
       "dtype: int64"
      ]
     },
     "execution_count": 36,
     "metadata": {},
     "output_type": "execute_result"
    }
   ],
   "source": [
    "new_heart_data.isnull().sum().sort_values(ascending=False)"
   ]
  },
  {
   "cell_type": "code",
   "execution_count": 37,
   "id": "f902543c",
   "metadata": {},
   "outputs": [
    {
     "data": {
      "text/html": [
       "<div>\n",
       "<style scoped>\n",
       "    .dataframe tbody tr th:only-of-type {\n",
       "        vertical-align: middle;\n",
       "    }\n",
       "\n",
       "    .dataframe tbody tr th {\n",
       "        vertical-align: top;\n",
       "    }\n",
       "\n",
       "    .dataframe thead th {\n",
       "        text-align: right;\n",
       "    }\n",
       "</style>\n",
       "<table border=\"1\" class=\"dataframe\">\n",
       "  <thead>\n",
       "    <tr style=\"text-align: right;\">\n",
       "      <th></th>\n",
       "      <th>age</th>\n",
       "      <th>prevalentStroke</th>\n",
       "      <th>prevalentHyp</th>\n",
       "      <th>diabetes</th>\n",
       "      <th>sysBP</th>\n",
       "      <th>diaBP</th>\n",
       "      <th>TenYearCHD</th>\n",
       "      <th>M</th>\n",
       "      <th>YES</th>\n",
       "      <th>glucose</th>\n",
       "      <th>BPMeds</th>\n",
       "      <th>totChol</th>\n",
       "      <th>cigsPerDay</th>\n",
       "      <th>BMI</th>\n",
       "      <th>heartRate</th>\n",
       "    </tr>\n",
       "  </thead>\n",
       "  <tbody>\n",
       "    <tr>\n",
       "      <th>0</th>\n",
       "      <td>64</td>\n",
       "      <td>0</td>\n",
       "      <td>0</td>\n",
       "      <td>0</td>\n",
       "      <td>148.0</td>\n",
       "      <td>85.0</td>\n",
       "      <td>1</td>\n",
       "      <td>0</td>\n",
       "      <td>1</td>\n",
       "      <td>80.0</td>\n",
       "      <td>0.0</td>\n",
       "      <td>221.0</td>\n",
       "      <td>3.0</td>\n",
       "      <td>27.736</td>\n",
       "      <td>90.0</td>\n",
       "    </tr>\n",
       "    <tr>\n",
       "      <th>1</th>\n",
       "      <td>36</td>\n",
       "      <td>0</td>\n",
       "      <td>1</td>\n",
       "      <td>0</td>\n",
       "      <td>168.0</td>\n",
       "      <td>98.0</td>\n",
       "      <td>0</td>\n",
       "      <td>1</td>\n",
       "      <td>0</td>\n",
       "      <td>75.0</td>\n",
       "      <td>0.0</td>\n",
       "      <td>212.0</td>\n",
       "      <td>0.0</td>\n",
       "      <td>29.770</td>\n",
       "      <td>72.0</td>\n",
       "    </tr>\n",
       "    <tr>\n",
       "      <th>2</th>\n",
       "      <td>46</td>\n",
       "      <td>0</td>\n",
       "      <td>0</td>\n",
       "      <td>0</td>\n",
       "      <td>116.0</td>\n",
       "      <td>71.0</td>\n",
       "      <td>0</td>\n",
       "      <td>0</td>\n",
       "      <td>1</td>\n",
       "      <td>94.0</td>\n",
       "      <td>0.0</td>\n",
       "      <td>250.0</td>\n",
       "      <td>10.0</td>\n",
       "      <td>20.350</td>\n",
       "      <td>88.0</td>\n",
       "    </tr>\n",
       "    <tr>\n",
       "      <th>3</th>\n",
       "      <td>50</td>\n",
       "      <td>0</td>\n",
       "      <td>1</td>\n",
       "      <td>0</td>\n",
       "      <td>158.0</td>\n",
       "      <td>88.0</td>\n",
       "      <td>1</td>\n",
       "      <td>1</td>\n",
       "      <td>1</td>\n",
       "      <td>94.0</td>\n",
       "      <td>0.0</td>\n",
       "      <td>233.0</td>\n",
       "      <td>20.0</td>\n",
       "      <td>28.260</td>\n",
       "      <td>68.0</td>\n",
       "    </tr>\n",
       "    <tr>\n",
       "      <th>4</th>\n",
       "      <td>64</td>\n",
       "      <td>0</td>\n",
       "      <td>0</td>\n",
       "      <td>0</td>\n",
       "      <td>136.5</td>\n",
       "      <td>85.0</td>\n",
       "      <td>0</td>\n",
       "      <td>0</td>\n",
       "      <td>1</td>\n",
       "      <td>77.0</td>\n",
       "      <td>0.0</td>\n",
       "      <td>241.0</td>\n",
       "      <td>30.0</td>\n",
       "      <td>26.420</td>\n",
       "      <td>70.0</td>\n",
       "    </tr>\n",
       "  </tbody>\n",
       "</table>\n",
       "</div>"
      ],
      "text/plain": [
       "   age  prevalentStroke  prevalentHyp  diabetes  sysBP  diaBP  TenYearCHD  M  \\\n",
       "0   64                0             0         0  148.0   85.0           1  0   \n",
       "1   36                0             1         0  168.0   98.0           0  1   \n",
       "2   46                0             0         0  116.0   71.0           0  0   \n",
       "3   50                0             1         0  158.0   88.0           1  1   \n",
       "4   64                0             0         0  136.5   85.0           0  0   \n",
       "\n",
       "   YES  glucose  BPMeds  totChol  cigsPerDay     BMI  heartRate  \n",
       "0    1     80.0     0.0    221.0         3.0  27.736       90.0  \n",
       "1    0     75.0     0.0    212.0         0.0  29.770       72.0  \n",
       "2    1     94.0     0.0    250.0        10.0  20.350       88.0  \n",
       "3    1     94.0     0.0    233.0        20.0  28.260       68.0  \n",
       "4    1     77.0     0.0    241.0        30.0  26.420       70.0  "
      ]
     },
     "execution_count": 37,
     "metadata": {},
     "output_type": "execute_result"
    }
   ],
   "source": [
    "new_heart_data.head()"
   ]
  },
  {
   "cell_type": "code",
   "execution_count": 38,
   "id": "d3697640",
   "metadata": {},
   "outputs": [
    {
     "data": {
      "text/plain": [
       "age                  73.837553\n",
       "prevalentStroke       0.006449\n",
       "prevalentHyp          0.215964\n",
       "diabetes              0.025012\n",
       "sysBP               496.934581\n",
       "diaBP               144.566502\n",
       "TenYearCHD            0.128053\n",
       "M                     0.245549\n",
       "YES                   0.250068\n",
       "glucose             545.191766\n",
       "BPMeds                0.028711\n",
       "totChol            2027.539619\n",
       "cigsPerDay          140.545407\n",
       "BMI                  16.873534\n",
       "heartRate           143.287654\n",
       "dtype: float64"
      ]
     },
     "execution_count": 38,
     "metadata": {},
     "output_type": "execute_result"
    }
   ],
   "source": [
    "new_heart_data.var()"
   ]
  },
  {
   "cell_type": "code",
   "execution_count": 39,
   "id": "e4c62de0",
   "metadata": {},
   "outputs": [
    {
     "data": {
      "text/plain": [
       "0    2879\n",
       "1     511\n",
       "Name: TenYearCHD, dtype: int64"
      ]
     },
     "execution_count": 39,
     "metadata": {},
     "output_type": "execute_result"
    }
   ],
   "source": [
    "new_heart_data[\"TenYearCHD\"].value_counts()"
   ]
  },
  {
   "cell_type": "code",
   "execution_count": 40,
   "id": "c9433682",
   "metadata": {},
   "outputs": [],
   "source": [
    "X = new_heart_data.drop(columns=\"TenYearCHD\",axis=1)"
   ]
  },
  {
   "cell_type": "code",
   "execution_count": 41,
   "id": "38a03674",
   "metadata": {},
   "outputs": [],
   "source": [
    "y = new_heart_data[\"TenYearCHD\"]"
   ]
  },
  {
   "cell_type": "markdown",
   "id": "fc6d8309",
   "metadata": {},
   "source": [
    " Here we are dealing with imbalanced data. so it is better to balance the data.\n",
    " And we are gonna use, oversampling - Random oversampling duplicates or copies randomly selected records or observations from minority class."
   ]
  },
  {
   "cell_type": "code",
   "execution_count": 42,
   "id": "28031096",
   "metadata": {},
   "outputs": [],
   "source": [
    "# oversampling\n",
    "from imblearn.over_sampling import RandomOverSampler"
   ]
  },
  {
   "cell_type": "code",
   "execution_count": 43,
   "id": "f4e44c0d",
   "metadata": {},
   "outputs": [],
   "source": [
    "ros= RandomOverSampler(random_state=1)"
   ]
  },
  {
   "cell_type": "code",
   "execution_count": 44,
   "id": "34ec3e8a",
   "metadata": {},
   "outputs": [],
   "source": [
    "X_ros,y_ros=ros.fit_resample(X,y)"
   ]
  },
  {
   "cell_type": "code",
   "execution_count": 45,
   "id": "f14209ef",
   "metadata": {},
   "outputs": [
    {
     "name": "stdout",
     "output_type": "stream",
     "text": [
      "TenYearCHD\n",
      "0             2879\n",
      "1              511\n",
      "dtype: int64\n",
      "TenYearCHD\n",
      "0             2879\n",
      "1             2879\n",
      "dtype: int64\n"
     ]
    }
   ],
   "source": [
    "print(pd.DataFrame(y).value_counts())\n",
    "print(pd.DataFrame(y_ros).value_counts())"
   ]
  },
  {
   "cell_type": "markdown",
   "id": "265aaeb6",
   "metadata": {},
   "source": [
    "Now, we have performed oversampling on the dataset, and the new shape of the dataset is 5758 observations and 17 columns including the predictor variable. And oversampling technique is choosen to overcome loss of data. And higher the number of observations, higher the accuracy of fitting machine learning models."
   ]
  },
  {
   "cell_type": "code",
   "execution_count": 46,
   "id": "12ee7aa3",
   "metadata": {},
   "outputs": [
    {
     "data": {
      "text/html": [
       "<div>\n",
       "<style scoped>\n",
       "    .dataframe tbody tr th:only-of-type {\n",
       "        vertical-align: middle;\n",
       "    }\n",
       "\n",
       "    .dataframe tbody tr th {\n",
       "        vertical-align: top;\n",
       "    }\n",
       "\n",
       "    .dataframe thead th {\n",
       "        text-align: right;\n",
       "    }\n",
       "</style>\n",
       "<table border=\"1\" class=\"dataframe\">\n",
       "  <thead>\n",
       "    <tr style=\"text-align: right;\">\n",
       "      <th></th>\n",
       "      <th>age</th>\n",
       "      <th>prevalentStroke</th>\n",
       "      <th>prevalentHyp</th>\n",
       "      <th>diabetes</th>\n",
       "      <th>sysBP</th>\n",
       "      <th>diaBP</th>\n",
       "      <th>M</th>\n",
       "      <th>YES</th>\n",
       "      <th>glucose</th>\n",
       "      <th>BPMeds</th>\n",
       "      <th>totChol</th>\n",
       "      <th>cigsPerDay</th>\n",
       "      <th>BMI</th>\n",
       "      <th>heartRate</th>\n",
       "    </tr>\n",
       "  </thead>\n",
       "  <tbody>\n",
       "    <tr>\n",
       "      <th>0</th>\n",
       "      <td>64</td>\n",
       "      <td>0</td>\n",
       "      <td>0</td>\n",
       "      <td>0</td>\n",
       "      <td>148.0</td>\n",
       "      <td>85.0</td>\n",
       "      <td>0</td>\n",
       "      <td>1</td>\n",
       "      <td>80.0</td>\n",
       "      <td>0.0</td>\n",
       "      <td>221.0</td>\n",
       "      <td>3.0</td>\n",
       "      <td>27.736</td>\n",
       "      <td>90.0</td>\n",
       "    </tr>\n",
       "    <tr>\n",
       "      <th>1</th>\n",
       "      <td>36</td>\n",
       "      <td>0</td>\n",
       "      <td>1</td>\n",
       "      <td>0</td>\n",
       "      <td>168.0</td>\n",
       "      <td>98.0</td>\n",
       "      <td>1</td>\n",
       "      <td>0</td>\n",
       "      <td>75.0</td>\n",
       "      <td>0.0</td>\n",
       "      <td>212.0</td>\n",
       "      <td>0.0</td>\n",
       "      <td>29.770</td>\n",
       "      <td>72.0</td>\n",
       "    </tr>\n",
       "    <tr>\n",
       "      <th>2</th>\n",
       "      <td>46</td>\n",
       "      <td>0</td>\n",
       "      <td>0</td>\n",
       "      <td>0</td>\n",
       "      <td>116.0</td>\n",
       "      <td>71.0</td>\n",
       "      <td>0</td>\n",
       "      <td>1</td>\n",
       "      <td>94.0</td>\n",
       "      <td>0.0</td>\n",
       "      <td>250.0</td>\n",
       "      <td>10.0</td>\n",
       "      <td>20.350</td>\n",
       "      <td>88.0</td>\n",
       "    </tr>\n",
       "    <tr>\n",
       "      <th>3</th>\n",
       "      <td>50</td>\n",
       "      <td>0</td>\n",
       "      <td>1</td>\n",
       "      <td>0</td>\n",
       "      <td>158.0</td>\n",
       "      <td>88.0</td>\n",
       "      <td>1</td>\n",
       "      <td>1</td>\n",
       "      <td>94.0</td>\n",
       "      <td>0.0</td>\n",
       "      <td>233.0</td>\n",
       "      <td>20.0</td>\n",
       "      <td>28.260</td>\n",
       "      <td>68.0</td>\n",
       "    </tr>\n",
       "    <tr>\n",
       "      <th>4</th>\n",
       "      <td>64</td>\n",
       "      <td>0</td>\n",
       "      <td>0</td>\n",
       "      <td>0</td>\n",
       "      <td>136.5</td>\n",
       "      <td>85.0</td>\n",
       "      <td>0</td>\n",
       "      <td>1</td>\n",
       "      <td>77.0</td>\n",
       "      <td>0.0</td>\n",
       "      <td>241.0</td>\n",
       "      <td>30.0</td>\n",
       "      <td>26.420</td>\n",
       "      <td>70.0</td>\n",
       "    </tr>\n",
       "    <tr>\n",
       "      <th>...</th>\n",
       "      <td>...</td>\n",
       "      <td>...</td>\n",
       "      <td>...</td>\n",
       "      <td>...</td>\n",
       "      <td>...</td>\n",
       "      <td>...</td>\n",
       "      <td>...</td>\n",
       "      <td>...</td>\n",
       "      <td>...</td>\n",
       "      <td>...</td>\n",
       "      <td>...</td>\n",
       "      <td>...</td>\n",
       "      <td>...</td>\n",
       "      <td>...</td>\n",
       "    </tr>\n",
       "    <tr>\n",
       "      <th>5753</th>\n",
       "      <td>44</td>\n",
       "      <td>0</td>\n",
       "      <td>1</td>\n",
       "      <td>0</td>\n",
       "      <td>147.5</td>\n",
       "      <td>96.0</td>\n",
       "      <td>0</td>\n",
       "      <td>1</td>\n",
       "      <td>78.8</td>\n",
       "      <td>0.0</td>\n",
       "      <td>234.6</td>\n",
       "      <td>9.0</td>\n",
       "      <td>30.570</td>\n",
       "      <td>78.0</td>\n",
       "    </tr>\n",
       "    <tr>\n",
       "      <th>5754</th>\n",
       "      <td>63</td>\n",
       "      <td>0</td>\n",
       "      <td>1</td>\n",
       "      <td>0</td>\n",
       "      <td>192.5</td>\n",
       "      <td>125.0</td>\n",
       "      <td>1</td>\n",
       "      <td>1</td>\n",
       "      <td>83.0</td>\n",
       "      <td>0.0</td>\n",
       "      <td>203.0</td>\n",
       "      <td>25.0</td>\n",
       "      <td>26.180</td>\n",
       "      <td>80.0</td>\n",
       "    </tr>\n",
       "    <tr>\n",
       "      <th>5755</th>\n",
       "      <td>56</td>\n",
       "      <td>0</td>\n",
       "      <td>0</td>\n",
       "      <td>0</td>\n",
       "      <td>165.0</td>\n",
       "      <td>112.0</td>\n",
       "      <td>1</td>\n",
       "      <td>1</td>\n",
       "      <td>78.0</td>\n",
       "      <td>0.0</td>\n",
       "      <td>300.0</td>\n",
       "      <td>20.0</td>\n",
       "      <td>23.680</td>\n",
       "      <td>86.0</td>\n",
       "    </tr>\n",
       "    <tr>\n",
       "      <th>5756</th>\n",
       "      <td>59</td>\n",
       "      <td>0</td>\n",
       "      <td>1</td>\n",
       "      <td>0</td>\n",
       "      <td>148.5</td>\n",
       "      <td>90.0</td>\n",
       "      <td>0</td>\n",
       "      <td>0</td>\n",
       "      <td>83.0</td>\n",
       "      <td>1.0</td>\n",
       "      <td>201.0</td>\n",
       "      <td>0.0</td>\n",
       "      <td>25.850</td>\n",
       "      <td>65.0</td>\n",
       "    </tr>\n",
       "    <tr>\n",
       "      <th>5757</th>\n",
       "      <td>57</td>\n",
       "      <td>0</td>\n",
       "      <td>1</td>\n",
       "      <td>0</td>\n",
       "      <td>192.5</td>\n",
       "      <td>113.0</td>\n",
       "      <td>1</td>\n",
       "      <td>0</td>\n",
       "      <td>90.0</td>\n",
       "      <td>1.0</td>\n",
       "      <td>321.0</td>\n",
       "      <td>0.0</td>\n",
       "      <td>25.940</td>\n",
       "      <td>63.0</td>\n",
       "    </tr>\n",
       "  </tbody>\n",
       "</table>\n",
       "<p>5758 rows × 14 columns</p>\n",
       "</div>"
      ],
      "text/plain": [
       "      age  prevalentStroke  prevalentHyp  diabetes  sysBP  diaBP  M  YES  \\\n",
       "0      64                0             0         0  148.0   85.0  0    1   \n",
       "1      36                0             1         0  168.0   98.0  1    0   \n",
       "2      46                0             0         0  116.0   71.0  0    1   \n",
       "3      50                0             1         0  158.0   88.0  1    1   \n",
       "4      64                0             0         0  136.5   85.0  0    1   \n",
       "...   ...              ...           ...       ...    ...    ... ..  ...   \n",
       "5753   44                0             1         0  147.5   96.0  0    1   \n",
       "5754   63                0             1         0  192.5  125.0  1    1   \n",
       "5755   56                0             0         0  165.0  112.0  1    1   \n",
       "5756   59                0             1         0  148.5   90.0  0    0   \n",
       "5757   57                0             1         0  192.5  113.0  1    0   \n",
       "\n",
       "      glucose  BPMeds  totChol  cigsPerDay     BMI  heartRate  \n",
       "0        80.0     0.0    221.0         3.0  27.736       90.0  \n",
       "1        75.0     0.0    212.0         0.0  29.770       72.0  \n",
       "2        94.0     0.0    250.0        10.0  20.350       88.0  \n",
       "3        94.0     0.0    233.0        20.0  28.260       68.0  \n",
       "4        77.0     0.0    241.0        30.0  26.420       70.0  \n",
       "...       ...     ...      ...         ...     ...        ...  \n",
       "5753     78.8     0.0    234.6         9.0  30.570       78.0  \n",
       "5754     83.0     0.0    203.0        25.0  26.180       80.0  \n",
       "5755     78.0     0.0    300.0        20.0  23.680       86.0  \n",
       "5756     83.0     1.0    201.0         0.0  25.850       65.0  \n",
       "5757     90.0     1.0    321.0         0.0  25.940       63.0  \n",
       "\n",
       "[5758 rows x 14 columns]"
      ]
     },
     "execution_count": 46,
     "metadata": {},
     "output_type": "execute_result"
    }
   ],
   "source": [
    "X_ros"
   ]
  },
  {
   "cell_type": "code",
   "execution_count": 47,
   "id": "73c9395a",
   "metadata": {},
   "outputs": [
    {
     "data": {
      "text/plain": [
       "0       1\n",
       "1       0\n",
       "2       0\n",
       "3       1\n",
       "4       0\n",
       "       ..\n",
       "5753    1\n",
       "5754    1\n",
       "5755    1\n",
       "5756    1\n",
       "5757    1\n",
       "Name: TenYearCHD, Length: 5758, dtype: int64"
      ]
     },
     "execution_count": 47,
     "metadata": {},
     "output_type": "execute_result"
    }
   ],
   "source": [
    "y_ros"
   ]
  },
  {
   "cell_type": "markdown",
   "id": "e7ec9ec6",
   "metadata": {},
   "source": [
    "Now split the data into train and test groups"
   ]
  },
  {
   "cell_type": "code",
   "execution_count": 48,
   "id": "e7ffd51a",
   "metadata": {},
   "outputs": [],
   "source": [
    "from sklearn.model_selection import train_test_split"
   ]
  },
  {
   "cell_type": "code",
   "execution_count": 49,
   "id": "df9d7a10",
   "metadata": {},
   "outputs": [],
   "source": [
    "X_train, X_test, y_train, y_test = train_test_split(X_ros, y_ros, test_size=0.25, stratify=y_ros, random_state=1)"
   ]
  },
  {
   "cell_type": "code",
   "execution_count": 50,
   "id": "47ba89f1",
   "metadata": {},
   "outputs": [
    {
     "name": "stdout",
     "output_type": "stream",
     "text": [
      "(5758, 14) (4318, 14) (1440, 14)\n",
      "(5758,) (4318,) (1440,)\n"
     ]
    }
   ],
   "source": [
    "print(X_ros.shape, X_train.shape, X_test.shape)\n",
    "print(y_ros.shape, y_train.shape, y_test.shape)"
   ]
  },
  {
   "cell_type": "markdown",
   "id": "b7d7dfed",
   "metadata": {},
   "source": [
    "# Prediction using ML Classification Algorithms"
   ]
  },
  {
   "cell_type": "markdown",
   "id": "32e7be47",
   "metadata": {},
   "source": [
    " # What is Logistic Regression?\n",
    "\n",
    "- Logistic Regression is a “Supervised machine learning” algorithm that can be used to model the probability of a certain class or event. It is used when the data is linearly separable and the outcome is binary or dichotomous in nature.\n",
    "\n",
    "- That means Logistic regression is usually used for Binary classification problems.\n",
    "\n",
    "- Binary Classification refers to predicting the output variable that is discrete in two classes.\n",
    "\n",
    "- A few examples of Binary classification are Yes/No, Pass/Fail, Win/Lose, Cancerous/Non-cancerous, etc."
   ]
  },
  {
   "attachments": {
    "18454sigmoid%20function.png": {
     "image/png": "[encoded data removed]"
    }
   },
   "cell_type": "markdown",
   "id": "351f1f77",
   "metadata": {},
   "source": [
    "![18454sigmoid%20function.png](attachment:18454sigmoid%20function.png)"
   ]
  },
  {
   "cell_type": "markdown",
   "id": "58b03b0d",
   "metadata": {},
   "source": [
    "# How does Logistic Regression Work?\n",
    "\n",
    "* The logistic regression equation is quite similar to the linear regression model.\n",
    "\n",
    "* Consider we have a model with one predictor “x” and one Bernoulli response variable “ŷ” and p is the  probability of ŷ=1. The linear equation can be written as:\n",
    "\n",
    "                                        p=b0+b1x\n",
    " \n",
    "* The right-hand side of the equation (b0+b1x) is a linear equation and can hold values that exceed the range (0,1). But we know probability will always be in the range of (0,1).\n",
    "\n",
    "* To overcome that, we predict odds instead of probability.\n",
    "\n",
    "Odds: The ratio of the probability of an event occurring to the probability of an event not occurring.\n",
    "\n",
    "                                     Odds = p/(1-p)\n",
    "\n",
    "* The equation 1 can be re-written as: p/(1−p)=b0+b1x\n",
    " \n",
    "* Odds can only be a positive value, to tackle the negative numbers, we predict the logarithm of odds.\n",
    "\n",
    "                             Log of odds = ln(p/(1-p))\n",
    "\n",
    "                                ln(p/(1−p))=b0+b1x\n",
    " \n",
    "                          exp(ln(p/(1−p)))=exp(b0+b1x)\n",
    " \n",
    "                              eln(p/(1−p))=e(b0+b1x)\n",
    " \n",
    "                     From the inverse rule of logarithms,\n",
    "                     \n",
    "                             p/(1−p)=e(b0+b1x)\n",
    " \n",
    "                         Simple algebraic manipulations\n",
    "                             \n",
    "                             p=(1−p)∗e(b0+b1x)\n",
    " \n",
    "                          p=e(b0+b1x)−p∗e(b0+b1x)\n",
    " \n",
    "                 Taking p as common on the right-hand side\n",
    "                      \n",
    "                        p=p∗((e(b0+b1x)/p−e(b0+b1x))\n",
    " \n",
    "                         p=e(b0+b1x)/(1+e(b0+b1x))\n",
    " \n",
    "       Dividing numerator and denominator by e(b0+b1x) on the right-hand side\n",
    "\n",
    "                           p=1/(1+e−(b0+b1x))\n",
    " \n",
    "* Similarly, the equation for a logistic model with ‘n’ predictors is as below:\n",
    "p=1/(1+e−(b0+b1x1+b2x2+b3x3+...+bnxn))\n",
    " \n",
    "* The right side part looks familiar, Yes, it is the sigmoid function. It helps to squeeze the output to be in the range between 0 and 1."
   ]
  },
  {
   "attachments": {
    "LinearVsLogistic.jpg": {
     "image/jpeg": "[encoded data removed]"
    }
   },
   "cell_type": "markdown",
   "id": "85a9f993",
   "metadata": {},
   "source": [
    "![LinearVsLogistic.jpg](attachment:LinearVsLogistic.jpg)"
   ]
  },
  {
   "cell_type": "markdown",
   "id": "f7821311",
   "metadata": {},
   "source": [
    "# ●\tFitting different models\n",
    "For modelling we tried various classification algorithms like:\n",
    "\n",
    "1.\tLogistic Regression\n",
    "2.\tRandom Forest Classifier\n",
    "3.\tGradient Boosting classifier\n",
    "4.\tSupport vector machines\n"
   ]
  },
  {
   "cell_type": "markdown",
   "id": "bcff24ee",
   "metadata": {},
   "source": [
    "# 1. Logistic Regression Algorithm"
   ]
  },
  {
   "cell_type": "code",
   "execution_count": 51,
   "id": "32ef487e",
   "metadata": {},
   "outputs": [],
   "source": [
    "from sklearn.linear_model import LogisticRegression"
   ]
  },
  {
   "cell_type": "code",
   "execution_count": 52,
   "id": "fe42a0fc",
   "metadata": {},
   "outputs": [],
   "source": [
    "LR= LogisticRegression()"
   ]
  },
  {
   "cell_type": "code",
   "execution_count": 53,
   "id": "017bc7e4",
   "metadata": {},
   "outputs": [],
   "source": [
    "LRModel = LR.fit(X_train,y_train)"
   ]
  },
  {
   "cell_type": "code",
   "execution_count": 54,
   "id": "888b1411",
   "metadata": {},
   "outputs": [],
   "source": [
    "y_predict = LR.predict(X_test)"
   ]
  },
  {
   "cell_type": "code",
   "execution_count": 55,
   "id": "7a2b061f",
   "metadata": {},
   "outputs": [
    {
     "data": {
      "text/plain": [
       "0.6542380731820288"
      ]
     },
     "execution_count": 55,
     "metadata": {},
     "output_type": "execute_result"
    }
   ],
   "source": [
    "# model score\n",
    "LRModel.score(X_train,y_train)"
   ]
  },
  {
   "cell_type": "code",
   "execution_count": 56,
   "id": "bc4c06a6",
   "metadata": {},
   "outputs": [],
   "source": [
    "# classification report\n",
    "from sklearn.metrics import classification_report"
   ]
  },
  {
   "cell_type": "code",
   "execution_count": 57,
   "id": "1a83c6fb",
   "metadata": {},
   "outputs": [
    {
     "name": "stdout",
     "output_type": "stream",
     "text": [
      "              precision    recall  f1-score   support\n",
      "\n",
      "           0       0.65      0.64      0.64       720\n",
      "           1       0.64      0.66      0.65       720\n",
      "\n",
      "    accuracy                           0.65      1440\n",
      "   macro avg       0.65      0.65      0.65      1440\n",
      "weighted avg       0.65      0.65      0.65      1440\n",
      "\n"
     ]
    }
   ],
   "source": [
    "print(classification_report(y_test, y_predict))"
   ]
  },
  {
   "cell_type": "code",
   "execution_count": 58,
   "id": "f4cbada1",
   "metadata": {},
   "outputs": [],
   "source": [
    "# confusion matrix\n",
    "from sklearn.metrics import confusion_matrix"
   ]
  },
  {
   "cell_type": "code",
   "execution_count": 59,
   "id": "46ce9fd9",
   "metadata": {},
   "outputs": [
    {
     "data": {
      "image/png": "[encoded data removed]",
      "text/plain": [
       "<Figure size 360x360 with 2 Axes>"
      ]
     },
     "metadata": {
      "needs_background": "light"
     },
     "output_type": "display_data"
    }
   ],
   "source": [
    "LR_confusion_matrix = confusion_matrix(y_test, y_predict)\n",
    "f, ax = plt.subplots(figsize=(5,5))\n",
    "sns.heatmap(LR_confusion_matrix, annot=True, linewidth=0.7, linecolor='black', fmt='g', ax=ax, cmap=\"Blues\")\n",
    "plt.title('Logistic Classification Confusion Matrix')\n",
    "plt.xlabel('y predict')\n",
    "plt.ylabel('y test')\n",
    "plt.show()"
   ]
  },
  {
   "cell_type": "markdown",
   "id": "fac2b896",
   "metadata": {},
   "source": [
    "The confusion matrix shows 458+476 = 934 correct predictions and 244+262 = 506 incorrect ones.\n",
    "\n",
    "True Positives: 476\n",
    "\n",
    "True Negatives: 458\n",
    "\n",
    "False Positives: 262 (Type I error)\n",
    "\n",
    "False Negatives: 244 ( Type II error)"
   ]
  },
  {
   "cell_type": "code",
   "execution_count": 60,
   "id": "320db1b2",
   "metadata": {},
   "outputs": [],
   "source": [
    "# accuracy score\n",
    "from sklearn.metrics import accuracy_score"
   ]
  },
  {
   "cell_type": "code",
   "execution_count": 61,
   "id": "282f6c4d",
   "metadata": {},
   "outputs": [
    {
     "data": {
      "text/plain": [
       "0.6486111111111111"
      ]
     },
     "execution_count": 61,
     "metadata": {},
     "output_type": "execute_result"
    }
   ],
   "source": [
    "accuracy_score(y_test,y_predict)"
   ]
  },
  {
   "cell_type": "code",
   "execution_count": 62,
   "id": "b9b53431",
   "metadata": {},
   "outputs": [],
   "source": [
    "# auc_roc curve\n",
    "from sklearn.metrics import plot_roc_curve"
   ]
  },
  {
   "cell_type": "code",
   "execution_count": 63,
   "id": "29996b56",
   "metadata": {},
   "outputs": [
    {
     "data": {
      "text/plain": [
       "<sklearn.metrics._plot.roc_curve.RocCurveDisplay at 0x2618af40ee0>"
      ]
     },
     "execution_count": 63,
     "metadata": {},
     "output_type": "execute_result"
    },
    {
     "data": {
      "image/png": "[encoded data removed]",
      "text/plain": [
       "<Figure size 432x288 with 1 Axes>"
      ]
     },
     "metadata": {
      "needs_background": "light"
     },
     "output_type": "display_data"
    }
   ],
   "source": [
    "plot_roc_curve(LRModel,X_test,y_test)"
   ]
  },
  {
   "cell_type": "code",
   "execution_count": 64,
   "id": "dcc131a1",
   "metadata": {},
   "outputs": [],
   "source": [
    "from sklearn.model_selection import cross_val_score"
   ]
  },
  {
   "cell_type": "code",
   "execution_count": 65,
   "id": "5d1a58a3",
   "metadata": {},
   "outputs": [
    {
     "data": {
      "text/plain": [
       "array([0.61805556, 0.6712963 , 0.65393519, 0.62456547, 0.66512167])"
      ]
     },
     "execution_count": 65,
     "metadata": {},
     "output_type": "execute_result"
    }
   ],
   "source": [
    "cross_val_score(LRModel,X_train,y_train)"
   ]
  },
  {
   "cell_type": "markdown",
   "id": "a95d4faa",
   "metadata": {},
   "source": [
    "# 2. Random Forest classifier Algorithm"
   ]
  },
  {
   "cell_type": "code",
   "execution_count": 66,
   "id": "1d20fa61",
   "metadata": {},
   "outputs": [],
   "source": [
    "from sklearn.ensemble import RandomForestClassifier"
   ]
  },
  {
   "cell_type": "code",
   "execution_count": 67,
   "id": "439d1892",
   "metadata": {},
   "outputs": [],
   "source": [
    "RF=RandomForestClassifier(n_estimators=10)"
   ]
  },
  {
   "cell_type": "code",
   "execution_count": 68,
   "id": "ff38db99",
   "metadata": {},
   "outputs": [],
   "source": [
    "RFmodel=RF.fit(X_train,y_train)"
   ]
  },
  {
   "cell_type": "code",
   "execution_count": 69,
   "id": "9e937668",
   "metadata": {},
   "outputs": [],
   "source": [
    "RFPredict=RFmodel.predict(X_test)"
   ]
  },
  {
   "cell_type": "code",
   "execution_count": 70,
   "id": "b06ef209",
   "metadata": {},
   "outputs": [
    {
     "data": {
      "text/plain": [
       "0.9993052339045855"
      ]
     },
     "execution_count": 70,
     "metadata": {},
     "output_type": "execute_result"
    }
   ],
   "source": [
    "# model score\n",
    "RFmodel.score(X_train,y_train) # train data accuracy"
   ]
  },
  {
   "cell_type": "code",
   "execution_count": 71,
   "id": "ad928e7c",
   "metadata": {},
   "outputs": [
    {
     "name": "stdout",
     "output_type": "stream",
     "text": [
      "              precision    recall  f1-score   support\n",
      "\n",
      "           0       0.99      0.93      0.96       720\n",
      "           1       0.94      0.99      0.96       720\n",
      "\n",
      "    accuracy                           0.96      1440\n",
      "   macro avg       0.96      0.96      0.96      1440\n",
      "weighted avg       0.96      0.96      0.96      1440\n",
      "\n"
     ]
    }
   ],
   "source": [
    "# classification report\n",
    "print(classification_report(y_test, RFPredict))"
   ]
  },
  {
   "cell_type": "code",
   "execution_count": 72,
   "id": "1f697056",
   "metadata": {},
   "outputs": [
    {
     "data": {
      "image/png": "[encoded data removed]",
      "text/plain": [
       "<Figure size 360x360 with 2 Axes>"
      ]
     },
     "metadata": {
      "needs_background": "light"
     },
     "output_type": "display_data"
    }
   ],
   "source": [
    "# confusion matrix\n",
    "RF_confusion_matrix = confusion_matrix(y_test, RFPredict)\n",
    "f, ax = plt.subplots(figsize=(5,5))\n",
    "sns.heatmap(RF_confusion_matrix, annot=True, linewidth=0.7, linecolor='black', fmt='g', ax=ax, cmap=\"Blues\")\n",
    "plt.title('Random Forest Classification Confusion Matrix')\n",
    "plt.xlabel('y predict')\n",
    "plt.ylabel('y test')\n",
    "plt.show()"
   ]
  },
  {
   "cell_type": "markdown",
   "id": "2c6cad15",
   "metadata": {},
   "source": [
    "The confusion matrix shows 707+671= 1378 correct predictions and 49+13= 62 incorrect ones.\n",
    "\n",
    "True Positives: 707\n",
    "\n",
    "True Negatives: 671\n",
    "\n",
    "False Positives: 49 (Type I error)\n",
    "\n",
    "False Negatives: 13 ( Type II error)"
   ]
  },
  {
   "cell_type": "code",
   "execution_count": 73,
   "id": "b0e33187",
   "metadata": {},
   "outputs": [],
   "source": [
    "# accuracy score\n",
    "test_data_accuracy = accuracy_score(RFPredict, y_test)"
   ]
  },
  {
   "cell_type": "code",
   "execution_count": 74,
   "id": "14a7b700",
   "metadata": {},
   "outputs": [
    {
     "data": {
      "text/plain": [
       "0.9604166666666667"
      ]
     },
     "execution_count": 74,
     "metadata": {},
     "output_type": "execute_result"
    }
   ],
   "source": [
    "test_data_accuracy # test data accuracy"
   ]
  },
  {
   "cell_type": "code",
   "execution_count": 75,
   "id": "79531cf5",
   "metadata": {},
   "outputs": [],
   "source": [
    "model= pd.DataFrame({'Model': ['Random Forest'],'Train Score': [RFmodel.score(X_train,y_train)],'Test Score': [test_data_accuracy]})"
   ]
  },
  {
   "cell_type": "code",
   "execution_count": 76,
   "id": "2ec983d6",
   "metadata": {},
   "outputs": [
    {
     "data": {
      "text/html": [
       "<div>\n",
       "<style scoped>\n",
       "    .dataframe tbody tr th:only-of-type {\n",
       "        vertical-align: middle;\n",
       "    }\n",
       "\n",
       "    .dataframe tbody tr th {\n",
       "        vertical-align: top;\n",
       "    }\n",
       "\n",
       "    .dataframe thead th {\n",
       "        text-align: right;\n",
       "    }\n",
       "</style>\n",
       "<table border=\"1\" class=\"dataframe\">\n",
       "  <thead>\n",
       "    <tr style=\"text-align: right;\">\n",
       "      <th></th>\n",
       "      <th>Model</th>\n",
       "      <th>Train Score</th>\n",
       "      <th>Test Score</th>\n",
       "    </tr>\n",
       "  </thead>\n",
       "  <tbody>\n",
       "    <tr>\n",
       "      <th>0</th>\n",
       "      <td>Random Forest</td>\n",
       "      <td>0.999305</td>\n",
       "      <td>0.960417</td>\n",
       "    </tr>\n",
       "  </tbody>\n",
       "</table>\n",
       "</div>"
      ],
      "text/plain": [
       "           Model  Train Score  Test Score\n",
       "0  Random Forest     0.999305    0.960417"
      ]
     },
     "execution_count": 76,
     "metadata": {},
     "output_type": "execute_result"
    }
   ],
   "source": [
    "model.sort_values(by='Test Score', ascending=False)"
   ]
  },
  {
   "cell_type": "code",
   "execution_count": 77,
   "id": "95034b19",
   "metadata": {},
   "outputs": [
    {
     "data": {
      "text/plain": [
       "<sklearn.metrics._plot.roc_curve.RocCurveDisplay at 0x2618b0c9430>"
      ]
     },
     "execution_count": 77,
     "metadata": {},
     "output_type": "execute_result"
    },
    {
     "data": {
      "image/png": "[encoded data removed]",
      "text/plain": [
       "<Figure size 432x288 with 1 Axes>"
      ]
     },
     "metadata": {
      "needs_background": "light"
     },
     "output_type": "display_data"
    }
   ],
   "source": [
    "# auc_roc curve\n",
    "plot_roc_curve(RFmodel,X_test,y_test)"
   ]
  },
  {
   "cell_type": "code",
   "execution_count": 78,
   "id": "e216f39c",
   "metadata": {},
   "outputs": [
    {
     "data": {
      "text/plain": [
       "array([0.93402778, 0.92013889, 0.92824074, 0.94553882, 0.94206257])"
      ]
     },
     "execution_count": 78,
     "metadata": {},
     "output_type": "execute_result"
    }
   ],
   "source": [
    "# cross validation score\n",
    "cross_val_score(RFmodel,X_train,y_train)"
   ]
  },
  {
   "cell_type": "markdown",
   "id": "c0b09b51",
   "metadata": {},
   "source": [
    "# 3. Gradient Boosting Algorithm"
   ]
  },
  {
   "cell_type": "code",
   "execution_count": 79,
   "id": "99a7f255",
   "metadata": {},
   "outputs": [],
   "source": [
    "from sklearn.ensemble import GradientBoostingClassifier"
   ]
  },
  {
   "cell_type": "code",
   "execution_count": 80,
   "id": "8ec2cd2a",
   "metadata": {},
   "outputs": [],
   "source": [
    "gbm=GradientBoostingClassifier(n_estimators=1100)"
   ]
  },
  {
   "cell_type": "code",
   "execution_count": 81,
   "id": "7e6494ee",
   "metadata": {},
   "outputs": [],
   "source": [
    "gbmmodel=gbm.fit(X_train,y_train)"
   ]
  },
  {
   "cell_type": "code",
   "execution_count": 82,
   "id": "4e927f50",
   "metadata": {},
   "outputs": [
    {
     "data": {
      "text/plain": [
       "0.9930523390458545"
      ]
     },
     "execution_count": 82,
     "metadata": {},
     "output_type": "execute_result"
    }
   ],
   "source": [
    "gbmmodel.score(X_train,y_train)"
   ]
  },
  {
   "cell_type": "code",
   "execution_count": 83,
   "id": "2b4405c6",
   "metadata": {},
   "outputs": [],
   "source": [
    "gbmpredict=gbmmodel.predict(X_test)"
   ]
  },
  {
   "cell_type": "code",
   "execution_count": 84,
   "id": "5b122dd5",
   "metadata": {},
   "outputs": [
    {
     "data": {
      "text/plain": [
       "0.9930523390458545"
      ]
     },
     "execution_count": 84,
     "metadata": {},
     "output_type": "execute_result"
    }
   ],
   "source": [
    "# model score\n",
    "gbmmodel.score(X_train,y_train) # train data accuracy"
   ]
  },
  {
   "cell_type": "code",
   "execution_count": 85,
   "id": "1f235890",
   "metadata": {},
   "outputs": [
    {
     "name": "stdout",
     "output_type": "stream",
     "text": [
      "              precision    recall  f1-score   support\n",
      "\n",
      "           0       0.97      0.84      0.90       720\n",
      "           1       0.86      0.97      0.91       720\n",
      "\n",
      "    accuracy                           0.91      1440\n",
      "   macro avg       0.91      0.91      0.91      1440\n",
      "weighted avg       0.91      0.91      0.91      1440\n",
      "\n"
     ]
    }
   ],
   "source": [
    "# classification report\n",
    "print(classification_report(y_test, gbmpredict))"
   ]
  },
  {
   "cell_type": "code",
   "execution_count": 86,
   "id": "027f4db4",
   "metadata": {},
   "outputs": [
    {
     "data": {
      "image/png": "[encoded data removed]",
      "text/plain": [
       "<Figure size 360x360 with 2 Axes>"
      ]
     },
     "metadata": {
      "needs_background": "light"
     },
     "output_type": "display_data"
    }
   ],
   "source": [
    "# confusion matrix\n",
    "GB_confusion_matrix = confusion_matrix(y_test, gbmpredict)\n",
    "f, ax = plt.subplots(figsize=(5,5))\n",
    "sns.heatmap(GB_confusion_matrix, annot=True, linewidth=0.7, linecolor='black', fmt='g', ax=ax, cmap=\"Blues\")\n",
    "plt.title('Gradient Boosting Classification Confusion Matrix')\n",
    "plt.xlabel('y predict')\n",
    "plt.ylabel('y test')\n",
    "plt.show()"
   ]
  },
  {
   "cell_type": "markdown",
   "id": "b9d2fb52",
   "metadata": {},
   "source": [
    "The confusion matrix shows 700+605=1305 correct predictions and 115+20=135 incorrect ones.\n",
    "\n",
    "True Positives: 700\n",
    "\n",
    "True Negatives: 605\n",
    "\n",
    "False Positives: 115 (Type I error)\n",
    "\n",
    "False Negatives: 20 ( Type II error)"
   ]
  },
  {
   "cell_type": "code",
   "execution_count": 87,
   "id": "57bdc5af",
   "metadata": {},
   "outputs": [
    {
     "data": {
      "text/plain": [
       "<sklearn.metrics._plot.roc_curve.RocCurveDisplay at 0x26188288a30>"
      ]
     },
     "execution_count": 87,
     "metadata": {},
     "output_type": "execute_result"
    },
    {
     "data": {
      "image/png": "[encoded data removed]",
      "text/plain": [
       "<Figure size 432x288 with 1 Axes>"
      ]
     },
     "metadata": {
      "needs_background": "light"
     },
     "output_type": "display_data"
    }
   ],
   "source": [
    "# auc_roc curve\n",
    "plot_roc_curve(gbmmodel,X_test,y_test)"
   ]
  },
  {
   "cell_type": "code",
   "execution_count": 88,
   "id": "1cb9a398",
   "metadata": {},
   "outputs": [
    {
     "data": {
      "text/plain": [
       "array([0.93402778, 0.92592593, 0.92824074, 0.95133256, 0.94785632])"
      ]
     },
     "execution_count": 88,
     "metadata": {},
     "output_type": "execute_result"
    }
   ],
   "source": [
    "# cross validation score\n",
    "cross_val_score(RFmodel,X_train,y_train)"
   ]
  },
  {
   "cell_type": "markdown",
   "id": "b9c6b163",
   "metadata": {},
   "source": [
    "# 4. support vector machines (svm)"
   ]
  },
  {
   "cell_type": "code",
   "execution_count": 89,
   "id": "a9d0c7ea",
   "metadata": {},
   "outputs": [],
   "source": [
    "from sklearn.svm import SVC"
   ]
  },
  {
   "cell_type": "code",
   "execution_count": 90,
   "id": "b182fc21",
   "metadata": {},
   "outputs": [],
   "source": [
    "svm = SVC()"
   ]
  },
  {
   "cell_type": "code",
   "execution_count": 91,
   "id": "457d0d82",
   "metadata": {},
   "outputs": [],
   "source": [
    "svmmodel=svm.fit(X_train,y_train)"
   ]
  },
  {
   "cell_type": "code",
   "execution_count": 92,
   "id": "13d60c43",
   "metadata": {},
   "outputs": [
    {
     "data": {
      "text/plain": [
       "0.6630384437239463"
      ]
     },
     "execution_count": 92,
     "metadata": {},
     "output_type": "execute_result"
    }
   ],
   "source": [
    "svmmodel.score(X_train,y_train)"
   ]
  },
  {
   "cell_type": "code",
   "execution_count": 93,
   "id": "a42288e0",
   "metadata": {},
   "outputs": [],
   "source": [
    "svmpredict=svmmodel.predict(X_test)"
   ]
  },
  {
   "cell_type": "code",
   "execution_count": 94,
   "id": "937a8522",
   "metadata": {},
   "outputs": [
    {
     "name": "stdout",
     "output_type": "stream",
     "text": [
      "              precision    recall  f1-score   support\n",
      "\n",
      "           0       0.68      0.65      0.67       720\n",
      "           1       0.67      0.69      0.68       720\n",
      "\n",
      "    accuracy                           0.67      1440\n",
      "   macro avg       0.67      0.67      0.67      1440\n",
      "weighted avg       0.67      0.67      0.67      1440\n",
      "\n"
     ]
    }
   ],
   "source": [
    "# classification report\n",
    "print(classification_report(y_test, svmpredict))"
   ]
  },
  {
   "cell_type": "code",
   "execution_count": 95,
   "id": "b0ba8b0d",
   "metadata": {},
   "outputs": [
    {
     "data": {
      "image/png": "[encoded data removed]",
      "text/plain": [
       "<Figure size 360x360 with 2 Axes>"
      ]
     },
     "metadata": {
      "needs_background": "light"
     },
     "output_type": "display_data"
    }
   ],
   "source": [
    "svm_confusion_matrix = confusion_matrix(y_test, svmpredict)\n",
    "f, ax = plt.subplots(figsize=(5,5))\n",
    "sns.heatmap(svm_confusion_matrix, annot=True, linewidth=0.7, linecolor='black', fmt='g', ax=ax, cmap=\"Blues\")\n",
    "plt.title('SVM Classification Confusion Matrix')\n",
    "plt.xlabel('y predict')\n",
    "plt.ylabel('y test')\n",
    "plt.show()"
   ]
  },
  {
   "cell_type": "markdown",
   "id": "76be1795",
   "metadata": {},
   "source": [
    "The confusion matrix shows 471+500 = 971 correct predictions and 249+220 = 469 incorrect ones.\n",
    "\n",
    "True Positives: 500\n",
    "\n",
    "True Negatives: 471\n",
    "\n",
    "False Positives: 249 (Type I error)\n",
    "\n",
    "False Negatives: 220 ( Type II error)"
   ]
  },
  {
   "cell_type": "code",
   "execution_count": 96,
   "id": "352c71fd",
   "metadata": {},
   "outputs": [
    {
     "data": {
      "text/plain": [
       "<sklearn.metrics._plot.roc_curve.RocCurveDisplay at 0x26188a723a0>"
      ]
     },
     "execution_count": 96,
     "metadata": {},
     "output_type": "execute_result"
    },
    {
     "data": {
      "image/png": "[encoded data removed]",
      "text/plain": [
       "<Figure size 432x288 with 1 Axes>"
      ]
     },
     "metadata": {
      "needs_background": "light"
     },
     "output_type": "display_data"
    }
   ],
   "source": [
    "# auc_roc curve\n",
    "plot_roc_curve(svmmodel,X_test,y_test)"
   ]
  },
  {
   "cell_type": "code",
   "execution_count": 97,
   "id": "a638b60d",
   "metadata": {},
   "outputs": [
    {
     "data": {
      "text/plain": [
       "array([0.66666667, 0.68518519, 0.63657407, 0.65932793, 0.64658169])"
      ]
     },
     "execution_count": 97,
     "metadata": {},
     "output_type": "execute_result"
    }
   ],
   "source": [
    "# cross validation score\n",
    "cross_val_score(svmmodel,X_train,y_train)"
   ]
  },
  {
   "cell_type": "markdown",
   "id": "c1783750",
   "metadata": {},
   "source": [
    "# Final Verdict"
   ]
  },
  {
   "cell_type": "markdown",
   "id": "7d5fda6b",
   "metadata": {},
   "source": [
    "From the above, prediction we came to know that Random forest classifier works well with great accuracy and AUC score, and also from confusion matrix, we came to know that we have minimized \"Type 2 error\" with Random forest classifier."
   ]
  }
 ],
 "metadata": {
  "kernelspec": {
   "display_name": "Python 3 (ipykernel)",
   "language": "python",
   "name": "python3"
  },
  "language_info": {
   "codemirror_mode": {
    "name": "ipython",
    "version": 3
   },
   "file_extension": ".py",
   "mimetype": "text/x-python",
   "name": "python",
   "nbconvert_exporter": "python",
   "pygments_lexer": "ipython3",
   "version": "3.9.12"
  }
 },
 "nbformat": 4,
 "nbformat_minor": 5
}
